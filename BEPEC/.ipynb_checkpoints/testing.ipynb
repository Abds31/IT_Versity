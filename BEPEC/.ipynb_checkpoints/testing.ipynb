{
 "cells": [
  {
   "cell_type": "code",
   "execution_count": 1,
   "id": "a8029d4f",
   "metadata": {},
   "outputs": [],
   "source": [
    "my_list=[]"
   ]
  },
  {
   "cell_type": "code",
   "execution_count": 2,
   "id": "54744c12",
   "metadata": {},
   "outputs": [],
   "source": [
    "my_list=[1,\"Hello\",3.4]"
   ]
  },
  {
   "cell_type": "code",
   "execution_count": 3,
   "id": "82c56d3b",
   "metadata": {},
   "outputs": [
    {
     "data": {
      "text/plain": [
       "'llo'"
      ]
     },
     "execution_count": 3,
     "metadata": {},
     "output_type": "execute_result"
    }
   ],
   "source": [
    "my_list[1][2:]"
   ]
  },
  {
   "cell_type": "code",
   "execution_count": 4,
   "id": "9c778fc4",
   "metadata": {},
   "outputs": [],
   "source": [
    "my_list=['mouse',[8,4,6],['a']]"
   ]
  },
  {
   "cell_type": "code",
   "execution_count": 5,
   "id": "9510d7f5",
   "metadata": {},
   "outputs": [
    {
     "data": {
      "text/plain": [
       "['a']"
      ]
     },
     "execution_count": 5,
     "metadata": {},
     "output_type": "execute_result"
    }
   ],
   "source": [
    "my_list[2]"
   ]
  },
  {
   "cell_type": "code",
   "execution_count": 8,
   "id": "5074e307",
   "metadata": {},
   "outputs": [
    {
     "data": {
      "text/plain": [
       "'a'"
      ]
     },
     "execution_count": 8,
     "metadata": {},
     "output_type": "execute_result"
    }
   ],
   "source": [
    "my_list[2][0]"
   ]
  },
  {
   "cell_type": "code",
   "execution_count": 9,
   "id": "87197134",
   "metadata": {},
   "outputs": [
    {
     "data": {
      "text/plain": [
       "6"
      ]
     },
     "execution_count": 9,
     "metadata": {},
     "output_type": "execute_result"
    }
   ],
   "source": [
    "my_list[1][2]"
   ]
  },
  {
   "cell_type": "code",
   "execution_count": 10,
   "id": "533d1001",
   "metadata": {},
   "outputs": [
    {
     "name": "stdout",
     "output_type": "stream",
     "text": [
      "Geeks : 1 , Portal :  5.33\n"
     ]
    }
   ],
   "source": [
    "print(\"Geeks :%2d , Portal : %5.2f\" %(1,05.333))"
   ]
  },
  {
   "cell_type": "code",
   "execution_count": 13,
   "id": "a8aa8052",
   "metadata": {},
   "outputs": [
    {
     "name": "stdout",
     "output_type": "stream",
     "text": [
      "I love Geeks for Geeks!\n"
     ]
    }
   ],
   "source": [
    "print(\"I love {} for {}!\".format(\"Geeks\",\"Geeks\"))"
   ]
  },
  {
   "cell_type": "code",
   "execution_count": 15,
   "id": "ec9e4d83",
   "metadata": {},
   "outputs": [
    {
     "name": "stdout",
     "output_type": "stream",
     "text": [
      "Geeks :11, Portal :   47.42\n"
     ]
    }
   ],
   "source": [
    "print(\"Geeks :{1:2d}, Portal :{0:8.2f}\".format(47.42,11))"
   ]
  },
  {
   "cell_type": "code",
   "execution_count": 16,
   "id": "57943a28",
   "metadata": {},
   "outputs": [
    {
     "name": "stdout",
     "output_type": "stream",
     "text": [
      "Geeks: 456 , Portal :    56.89\n"
     ]
    }
   ],
   "source": [
    "print(\"Geeks: %2d , Portal : %8.2f\" %(456,56.89065))"
   ]
  },
  {
   "cell_type": "code",
   "execution_count": 17,
   "id": "611b0b51",
   "metadata": {},
   "outputs": [
    {
     "name": "stdout",
     "output_type": "stream",
     "text": [
      "Geeks: 4027; For: 4098; Geeks: 8637678\n"
     ]
    }
   ],
   "source": [
    "tab={'geeks':4027,'for':4098,'geek':8637678}\n",
    "\n",
    "print('Geeks: {0[geeks]:d}; For: {0[for]:d}; '\n",
    "    'Geeks: {0[geek]:d}'.format(tab))"
   ]
  },
  {
   "cell_type": "code",
   "execution_count": 18,
   "id": "f38419df",
   "metadata": {},
   "outputs": [],
   "source": [
    "data = dict(fun =\"GeeksForGeeks\", adj =\"Portal\")"
   ]
  },
  {
   "cell_type": "code",
   "execution_count": 19,
   "id": "41ad14eb",
   "metadata": {},
   "outputs": [
    {
     "data": {
      "text/plain": [
       "{'fun': 'GeeksForGeeks', 'adj': 'Portal'}"
      ]
     },
     "execution_count": 19,
     "metadata": {},
     "output_type": "execute_result"
    }
   ],
   "source": [
    "data"
   ]
  },
  {
   "cell_type": "code",
   "execution_count": 34,
   "id": "9d525112",
   "metadata": {},
   "outputs": [],
   "source": [
    "odds=[2,4,6,8]"
   ]
  },
  {
   "cell_type": "code",
   "execution_count": 35,
   "id": "d83ed134",
   "metadata": {},
   "outputs": [],
   "source": [
    "odds[0]=1"
   ]
  },
  {
   "cell_type": "code",
   "execution_count": 36,
   "id": "7631fc38",
   "metadata": {},
   "outputs": [
    {
     "data": {
      "text/plain": [
       "[1, 4, 6, 8]"
      ]
     },
     "execution_count": 36,
     "metadata": {},
     "output_type": "execute_result"
    }
   ],
   "source": [
    "odds"
   ]
  },
  {
   "cell_type": "code",
   "execution_count": 37,
   "id": "d6affe45",
   "metadata": {},
   "outputs": [],
   "source": [
    "odds[0:4]=[1,3,5,7]"
   ]
  },
  {
   "cell_type": "code",
   "execution_count": 38,
   "id": "731b0ccc",
   "metadata": {},
   "outputs": [
    {
     "data": {
      "text/plain": [
       "[1, 3, 5, 7]"
      ]
     },
     "execution_count": 38,
     "metadata": {},
     "output_type": "execute_result"
    }
   ],
   "source": [
    "odds"
   ]
  },
  {
   "cell_type": "code",
   "execution_count": 39,
   "id": "319e77f8",
   "metadata": {},
   "outputs": [],
   "source": [
    "odds.append(9)"
   ]
  },
  {
   "cell_type": "code",
   "execution_count": 40,
   "id": "58305c86",
   "metadata": {},
   "outputs": [
    {
     "data": {
      "text/plain": [
       "[1, 3, 5, 7, 9]"
      ]
     },
     "execution_count": 40,
     "metadata": {},
     "output_type": "execute_result"
    }
   ],
   "source": [
    "odds"
   ]
  },
  {
   "cell_type": "code",
   "execution_count": 41,
   "id": "ef7b63cf",
   "metadata": {},
   "outputs": [],
   "source": [
    "odds.extend([11,23,45])"
   ]
  },
  {
   "cell_type": "code",
   "execution_count": 42,
   "id": "4420b800",
   "metadata": {},
   "outputs": [
    {
     "data": {
      "text/plain": [
       "[1, 3, 5, 7, 9, 11, 23, 45]"
      ]
     },
     "execution_count": 42,
     "metadata": {},
     "output_type": "execute_result"
    }
   ],
   "source": [
    "odds"
   ]
  },
  {
   "cell_type": "code",
   "execution_count": 29,
   "id": "2db4f1b6",
   "metadata": {},
   "outputs": [],
   "source": [
    "odds.clear()"
   ]
  },
  {
   "cell_type": "code",
   "execution_count": 43,
   "id": "e5705e3e",
   "metadata": {},
   "outputs": [],
   "source": [
    "odds.append([17,19])"
   ]
  },
  {
   "cell_type": "code",
   "execution_count": 44,
   "id": "b1a16cf6",
   "metadata": {},
   "outputs": [
    {
     "data": {
      "text/plain": [
       "[1, 3, 5, 7, 9, 11, 23, 45, [17, 19]]"
      ]
     },
     "execution_count": 44,
     "metadata": {},
     "output_type": "execute_result"
    }
   ],
   "source": [
    "odds"
   ]
  },
  {
   "cell_type": "code",
   "execution_count": 46,
   "id": "ab2594e0",
   "metadata": {},
   "outputs": [],
   "source": [
    "y_list=['p','r','o','b','l','e','m']"
   ]
  },
  {
   "cell_type": "code",
   "execution_count": 47,
   "id": "1d35eb76",
   "metadata": {},
   "outputs": [],
   "source": [
    "del y_list[2]"
   ]
  },
  {
   "cell_type": "code",
   "execution_count": 48,
   "id": "ec0c6c4e",
   "metadata": {},
   "outputs": [
    {
     "data": {
      "text/plain": [
       "['p', 'r', 'b', 'l', 'e', 'm']"
      ]
     },
     "execution_count": 48,
     "metadata": {},
     "output_type": "execute_result"
    }
   ],
   "source": [
    "y_list"
   ]
  },
  {
   "cell_type": "code",
   "execution_count": 49,
   "id": "68d463fc",
   "metadata": {},
   "outputs": [],
   "source": [
    "del y_list[1:5]"
   ]
  },
  {
   "cell_type": "code",
   "execution_count": 50,
   "id": "8ca93e8c",
   "metadata": {},
   "outputs": [
    {
     "data": {
      "text/plain": [
       "['p', 'm']"
      ]
     },
     "execution_count": 50,
     "metadata": {},
     "output_type": "execute_result"
    }
   ],
   "source": [
    "y_list"
   ]
  },
  {
   "cell_type": "code",
   "execution_count": 51,
   "id": "5e9da860",
   "metadata": {},
   "outputs": [],
   "source": [
    "del y_list"
   ]
  },
  {
   "cell_type": "code",
   "execution_count": 52,
   "id": "3a831588",
   "metadata": {},
   "outputs": [
    {
     "ename": "NameError",
     "evalue": "name 'y_list' is not defined",
     "output_type": "error",
     "traceback": [
      "\u001b[1;31m---------------------------------------------------------------------------\u001b[0m",
      "\u001b[1;31mNameError\u001b[0m                                 Traceback (most recent call last)",
      "\u001b[1;32m~\\AppData\\Local\\Temp/ipykernel_3276/4131087353.py\u001b[0m in \u001b[0;36m<module>\u001b[1;34m\u001b[0m\n\u001b[1;32m----> 1\u001b[1;33m \u001b[0my_list\u001b[0m\u001b[1;33m\u001b[0m\u001b[1;33m\u001b[0m\u001b[0m\n\u001b[0m",
      "\u001b[1;31mNameError\u001b[0m: name 'y_list' is not defined"
     ]
    }
   ],
   "source": [
    "y_list"
   ]
  },
  {
   "cell_type": "code",
   "execution_count": 53,
   "id": "9c7866b6",
   "metadata": {},
   "outputs": [],
   "source": [
    "my_list = ['p','r','o','b','l','e','m']\n",
    "my_list.remove('p')"
   ]
  },
  {
   "cell_type": "code",
   "execution_count": 54,
   "id": "199b0b7a",
   "metadata": {},
   "outputs": [
    {
     "data": {
      "text/plain": [
       "['r', 'o', 'b', 'l', 'e', 'm']"
      ]
     },
     "execution_count": 54,
     "metadata": {},
     "output_type": "execute_result"
    }
   ],
   "source": [
    "my_list"
   ]
  },
  {
   "cell_type": "code",
   "execution_count": 55,
   "id": "64662030",
   "metadata": {},
   "outputs": [
    {
     "data": {
      "text/plain": [
       "'m'"
      ]
     },
     "execution_count": 55,
     "metadata": {},
     "output_type": "execute_result"
    }
   ],
   "source": [
    "my_list.pop()"
   ]
  },
  {
   "cell_type": "code",
   "execution_count": 56,
   "id": "fc94b169",
   "metadata": {},
   "outputs": [
    {
     "data": {
      "text/plain": [
       "['r', 'o', 'b', 'l', 'e']"
      ]
     },
     "execution_count": 56,
     "metadata": {},
     "output_type": "execute_result"
    }
   ],
   "source": [
    "my_list"
   ]
  },
  {
   "cell_type": "code",
   "execution_count": 57,
   "id": "fea421ae",
   "metadata": {},
   "outputs": [
    {
     "data": {
      "text/plain": [
       "'l'"
      ]
     },
     "execution_count": 57,
     "metadata": {},
     "output_type": "execute_result"
    }
   ],
   "source": [
    "my_list.pop(3)"
   ]
  },
  {
   "cell_type": "code",
   "execution_count": 58,
   "id": "9e9c2a40",
   "metadata": {},
   "outputs": [
    {
     "data": {
      "text/plain": [
       "['r', 'o', 'b', 'e']"
      ]
     },
     "execution_count": 58,
     "metadata": {},
     "output_type": "execute_result"
    }
   ],
   "source": [
    "my_list"
   ]
  },
  {
   "cell_type": "code",
   "execution_count": 59,
   "id": "3fc583c8",
   "metadata": {},
   "outputs": [],
   "source": [
    "my_list.clear()"
   ]
  },
  {
   "cell_type": "code",
   "execution_count": 60,
   "id": "00d921c2",
   "metadata": {},
   "outputs": [
    {
     "name": "stdout",
     "output_type": "stream",
     "text": [
      "[]\n"
     ]
    }
   ],
   "source": [
    "print(my_list)"
   ]
  },
  {
   "cell_type": "code",
   "execution_count": 61,
   "id": "11feb704",
   "metadata": {},
   "outputs": [],
   "source": [
    "my_list=[3,8,1,6,0,8,4]"
   ]
  },
  {
   "cell_type": "code",
   "execution_count": 62,
   "id": "e6290cfd",
   "metadata": {},
   "outputs": [],
   "source": [
    "my_list.reverse()"
   ]
  },
  {
   "cell_type": "code",
   "execution_count": 63,
   "id": "13dffcaa",
   "metadata": {},
   "outputs": [
    {
     "data": {
      "text/plain": [
       "[4, 8, 0, 6, 1, 8, 3]"
      ]
     },
     "execution_count": 63,
     "metadata": {},
     "output_type": "execute_result"
    }
   ],
   "source": [
    "my_list"
   ]
  },
  {
   "cell_type": "code",
   "execution_count": 64,
   "id": "2de0cdc7",
   "metadata": {},
   "outputs": [
    {
     "data": {
      "text/plain": [
       "1"
      ]
     },
     "execution_count": 64,
     "metadata": {},
     "output_type": "execute_result"
    }
   ],
   "source": [
    "my_list.index(8)"
   ]
  },
  {
   "cell_type": "code",
   "execution_count": 65,
   "id": "c391f6f5",
   "metadata": {},
   "outputs": [
    {
     "data": {
      "text/plain": [
       "2"
      ]
     },
     "execution_count": 65,
     "metadata": {},
     "output_type": "execute_result"
    }
   ],
   "source": [
    "my_list.count(8)"
   ]
  },
  {
   "cell_type": "code",
   "execution_count": 66,
   "id": "16df8b2f",
   "metadata": {},
   "outputs": [],
   "source": [
    "my_list.sort()"
   ]
  },
  {
   "cell_type": "code",
   "execution_count": 67,
   "id": "2ef4f406",
   "metadata": {},
   "outputs": [
    {
     "data": {
      "text/plain": [
       "[0, 1, 3, 4, 6, 8, 8]"
      ]
     },
     "execution_count": 67,
     "metadata": {},
     "output_type": "execute_result"
    }
   ],
   "source": [
    "my_list"
   ]
  },
  {
   "cell_type": "code",
   "execution_count": 72,
   "id": "6889eb06",
   "metadata": {},
   "outputs": [],
   "source": [
    "def kanth_abs(n):\n",
    "    return abs(n-50)"
   ]
  },
  {
   "cell_type": "code",
   "execution_count": 73,
   "id": "3e8ff3e6",
   "metadata": {},
   "outputs": [],
   "source": [
    "thislist=[100,50,65,82,23]"
   ]
  },
  {
   "cell_type": "code",
   "execution_count": 74,
   "id": "d2da8f8d",
   "metadata": {},
   "outputs": [],
   "source": [
    "thislist.sort(key=kanth_abs)"
   ]
  },
  {
   "cell_type": "code",
   "execution_count": 75,
   "id": "da764ea1",
   "metadata": {},
   "outputs": [
    {
     "data": {
      "text/plain": [
       "[50, 65, 23, 82, 100]"
      ]
     },
     "execution_count": 75,
     "metadata": {},
     "output_type": "execute_result"
    }
   ],
   "source": [
    "thislist"
   ]
  },
  {
   "cell_type": "code",
   "execution_count": 76,
   "id": "cc3aa870",
   "metadata": {},
   "outputs": [],
   "source": [
    "thislist=['aaple','banana','cherry']\n",
    "my_list=thislist[:]"
   ]
  },
  {
   "cell_type": "code",
   "execution_count": 77,
   "id": "be86eb01",
   "metadata": {},
   "outputs": [
    {
     "name": "stdout",
     "output_type": "stream",
     "text": [
      "['aaple', 'banana', 'cherry']\n"
     ]
    }
   ],
   "source": [
    "print(my_list)"
   ]
  },
  {
   "cell_type": "code",
   "execution_count": 82,
   "id": "ca6670b4",
   "metadata": {},
   "outputs": [
    {
     "data": {
      "text/plain": [
       "'1 2 3'"
      ]
     },
     "execution_count": 82,
     "metadata": {},
     "output_type": "execute_result"
    }
   ],
   "source": [
    "' '.join(['1','2','3'])"
   ]
  },
  {
   "cell_type": "code",
   "execution_count": 84,
   "id": "3850251b",
   "metadata": {
    "scrolled": true
   },
   "outputs": [
    {
     "ename": "AttributeError",
     "evalue": "'list' object has no attribute 'join'",
     "output_type": "error",
     "traceback": [
      "\u001b[1;31m---------------------------------------------------------------------------\u001b[0m",
      "\u001b[1;31mAttributeError\u001b[0m                            Traceback (most recent call last)",
      "\u001b[1;32m~\\AppData\\Local\\Temp/ipykernel_3276/649564744.py\u001b[0m in \u001b[0;36m<module>\u001b[1;34m\u001b[0m\n\u001b[1;32m----> 1\u001b[1;33m \u001b[0ma\u001b[0m\u001b[1;33m=\u001b[0m\u001b[1;33m[\u001b[0m\u001b[1;36m1\u001b[0m\u001b[1;33m,\u001b[0m\u001b[1;36m2\u001b[0m\u001b[1;33m,\u001b[0m\u001b[1;36m3\u001b[0m\u001b[1;33m]\u001b[0m\u001b[1;33m.\u001b[0m\u001b[0mjoin\u001b[0m\u001b[1;33m(\u001b[0m\u001b[1;33m[\u001b[0m\u001b[1;36m4\u001b[0m\u001b[1;33m]\u001b[0m\u001b[1;33m)\u001b[0m\u001b[1;33m\u001b[0m\u001b[1;33m\u001b[0m\u001b[0m\n\u001b[0m",
      "\u001b[1;31mAttributeError\u001b[0m: 'list' object has no attribute 'join'"
     ]
    }
   ],
   "source": [
    "a=[1,2,3].join([4])"
   ]
  },
  {
   "cell_type": "code",
   "execution_count": 85,
   "id": "bcf938a1",
   "metadata": {},
   "outputs": [],
   "source": [
    "fruits = ['lemon', 'pear', 'watermelon', 'tomato']"
   ]
  },
  {
   "cell_type": "code",
   "execution_count": 86,
   "id": "860b578f",
   "metadata": {},
   "outputs": [],
   "source": [
    "((first_letter,*remaining),*other_fruits)=fruits"
   ]
  },
  {
   "cell_type": "code",
   "execution_count": 87,
   "id": "7c6bf928",
   "metadata": {},
   "outputs": [
    {
     "data": {
      "text/plain": [
       "['e', 'm', 'o', 'n']"
      ]
     },
     "execution_count": 87,
     "metadata": {},
     "output_type": "execute_result"
    }
   ],
   "source": [
    "remaining"
   ]
  },
  {
   "cell_type": "code",
   "execution_count": 88,
   "id": "2dcc86d4",
   "metadata": {},
   "outputs": [
    {
     "data": {
      "text/plain": [
       "['pear', 'watermelon', 'tomato']"
      ]
     },
     "execution_count": 88,
     "metadata": {},
     "output_type": "execute_result"
    }
   ],
   "source": [
    "other_fruits"
   ]
  },
  {
   "cell_type": "code",
   "execution_count": 94,
   "id": "7fa43053",
   "metadata": {},
   "outputs": [
    {
     "name": "stdout",
     "output_type": "stream",
     "text": [
      "[[2, 1, 3, 4, 7], 11, 18]\n"
     ]
    }
   ],
   "source": [
    "numbers=[2,1,3,4,7]\n",
    "more_numbers=[numbers,11,18]\n",
    "print(more_numbers,sep='_')"
   ]
  },
  {
   "cell_type": "code",
   "execution_count": 95,
   "id": "74011437",
   "metadata": {},
   "outputs": [],
   "source": [
    "my_tuple=()"
   ]
  },
  {
   "cell_type": "code",
   "execution_count": 96,
   "id": "034dfe5b",
   "metadata": {},
   "outputs": [],
   "source": [
    "my_tuple=(1,2,3)"
   ]
  },
  {
   "cell_type": "code",
   "execution_count": 97,
   "id": "52c7de6b",
   "metadata": {},
   "outputs": [
    {
     "data": {
      "text/plain": [
       "(1, 2, 3)"
      ]
     },
     "execution_count": 97,
     "metadata": {},
     "output_type": "execute_result"
    }
   ],
   "source": [
    "my_tuple"
   ]
  },
  {
   "cell_type": "code",
   "execution_count": 98,
   "id": "80751811",
   "metadata": {},
   "outputs": [],
   "source": [
    "my_tuple=(1,\"Hello\",3.4)"
   ]
  },
  {
   "cell_type": "code",
   "execution_count": 99,
   "id": "0d5ba87c",
   "metadata": {},
   "outputs": [
    {
     "data": {
      "text/plain": [
       "(1, 'Hello', 3.4)"
      ]
     },
     "execution_count": 99,
     "metadata": {},
     "output_type": "execute_result"
    }
   ],
   "source": [
    "my_tuple"
   ]
  },
  {
   "cell_type": "code",
   "execution_count": 102,
   "id": "c7991837",
   "metadata": {},
   "outputs": [],
   "source": [
    "my_tuple=((1,2,3),[8,4,6],\"mouse\")"
   ]
  },
  {
   "cell_type": "code",
   "execution_count": 104,
   "id": "59e14b00",
   "metadata": {},
   "outputs": [
    {
     "data": {
      "text/plain": [
       "((1, 2, 3), [8, 4, 6], 'mouse')"
      ]
     },
     "execution_count": 104,
     "metadata": {},
     "output_type": "execute_result"
    }
   ],
   "source": [
    "my_tuple"
   ]
  },
  {
   "cell_type": "code",
   "execution_count": 105,
   "id": "04ce2735",
   "metadata": {},
   "outputs": [
    {
     "data": {
      "text/plain": [
       "'u'"
      ]
     },
     "execution_count": 105,
     "metadata": {},
     "output_type": "execute_result"
    }
   ],
   "source": [
    "my_tuple[2][2]"
   ]
  },
  {
   "cell_type": "code",
   "execution_count": 107,
   "id": "af1d68be",
   "metadata": {},
   "outputs": [
    {
     "ename": "TypeError",
     "evalue": "'tuple' object does not support item assignment",
     "output_type": "error",
     "traceback": [
      "\u001b[1;31m---------------------------------------------------------------------------\u001b[0m",
      "\u001b[1;31mTypeError\u001b[0m                                 Traceback (most recent call last)",
      "\u001b[1;32m~\\AppData\\Local\\Temp/ipykernel_3276/1828444436.py\u001b[0m in \u001b[0;36m<module>\u001b[1;34m\u001b[0m\n\u001b[1;32m----> 1\u001b[1;33m \u001b[0mmy_tuple\u001b[0m\u001b[1;33m[\u001b[0m\u001b[1;36m0\u001b[0m\u001b[1;33m]\u001b[0m\u001b[1;33m[\u001b[0m\u001b[1;36m2\u001b[0m\u001b[1;33m]\u001b[0m\u001b[1;33m=\u001b[0m\u001b[1;36m3\u001b[0m\u001b[1;33m\u001b[0m\u001b[1;33m\u001b[0m\u001b[0m\n\u001b[0m",
      "\u001b[1;31mTypeError\u001b[0m: 'tuple' object does not support item assignment"
     ]
    }
   ],
   "source": [
    "my_tuple[0][2]=3"
   ]
  },
  {
   "cell_type": "code",
   "execution_count": 108,
   "id": "be5ce2cf",
   "metadata": {},
   "outputs": [],
   "source": [
    "my_tuple=3,4.6,'dog'"
   ]
  },
  {
   "cell_type": "code",
   "execution_count": 109,
   "id": "80ae5d40",
   "metadata": {},
   "outputs": [
    {
     "data": {
      "text/plain": [
       "(3, 4.6, 'dog')"
      ]
     },
     "execution_count": 109,
     "metadata": {},
     "output_type": "execute_result"
    }
   ],
   "source": [
    "my_tuple"
   ]
  },
  {
   "cell_type": "code",
   "execution_count": 110,
   "id": "788ace02",
   "metadata": {},
   "outputs": [],
   "source": [
    "a,b,c=my_tuple"
   ]
  },
  {
   "cell_type": "code",
   "execution_count": 111,
   "id": "217fd2b9",
   "metadata": {},
   "outputs": [
    {
     "name": "stdout",
     "output_type": "stream",
     "text": [
      "3 4.6 dog\n"
     ]
    }
   ],
   "source": [
    "print(a,b,c)"
   ]
  },
  {
   "cell_type": "code",
   "execution_count": 121,
   "id": "f11eaf59",
   "metadata": {},
   "outputs": [],
   "source": [
    "my_tuple=('hello',)"
   ]
  },
  {
   "cell_type": "code",
   "execution_count": 122,
   "id": "94a17707",
   "metadata": {},
   "outputs": [
    {
     "name": "stdout",
     "output_type": "stream",
     "text": [
      "<class 'tuple'>\n"
     ]
    }
   ],
   "source": [
    "print(type(my_tuple))"
   ]
  },
  {
   "cell_type": "code",
   "execution_count": 123,
   "id": "ee19a9bb",
   "metadata": {},
   "outputs": [],
   "source": [
    "my_tuple=(4,2,3,[6,5])"
   ]
  },
  {
   "cell_type": "code",
   "execution_count": 124,
   "id": "30dfcec2",
   "metadata": {},
   "outputs": [],
   "source": [
    "my_tuple[3][1]=4"
   ]
  },
  {
   "cell_type": "code",
   "execution_count": 125,
   "id": "b78b4883",
   "metadata": {},
   "outputs": [
    {
     "data": {
      "text/plain": [
       "(4, 2, 3, [6, 4])"
      ]
     },
     "execution_count": 125,
     "metadata": {},
     "output_type": "execute_result"
    }
   ],
   "source": [
    "my_tuple"
   ]
  },
  {
   "cell_type": "code",
   "execution_count": 131,
   "id": "52f098b5",
   "metadata": {},
   "outputs": [],
   "source": [
    "my_tuple=tuple((list(i for i in 'progmramiz')))"
   ]
  },
  {
   "cell_type": "code",
   "execution_count": 132,
   "id": "6af5258a",
   "metadata": {},
   "outputs": [
    {
     "data": {
      "text/plain": [
       "('p', 'r', 'o', 'g', 'm', 'r', 'a', 'm', 'i', 'z')"
      ]
     },
     "execution_count": 132,
     "metadata": {},
     "output_type": "execute_result"
    }
   ],
   "source": [
    "my_tuple"
   ]
  },
  {
   "cell_type": "code",
   "execution_count": 133,
   "id": "b5e3878e",
   "metadata": {},
   "outputs": [
    {
     "name": "stdout",
     "output_type": "stream",
     "text": [
      "(1, 2, 3, 4, 5, 6)\n"
     ]
    }
   ],
   "source": [
    "print((1,2,3)+(4,5,6))"
   ]
  },
  {
   "cell_type": "code",
   "execution_count": 134,
   "id": "2e0ca3f9",
   "metadata": {},
   "outputs": [
    {
     "name": "stdout",
     "output_type": "stream",
     "text": [
      "('Repeat', 'Repeat', 'Repeat')\n"
     ]
    }
   ],
   "source": [
    "print(('Repeat',)*3)"
   ]
  },
  {
   "cell_type": "code",
   "execution_count": 135,
   "id": "b1261263",
   "metadata": {},
   "outputs": [
    {
     "ename": "TypeError",
     "evalue": "'tuple' object doesn't support item deletion",
     "output_type": "error",
     "traceback": [
      "\u001b[1;31m---------------------------------------------------------------------------\u001b[0m",
      "\u001b[1;31mTypeError\u001b[0m                                 Traceback (most recent call last)",
      "\u001b[1;32m~\\AppData\\Local\\Temp/ipykernel_3276/300550573.py\u001b[0m in \u001b[0;36m<module>\u001b[1;34m\u001b[0m\n\u001b[1;32m----> 1\u001b[1;33m \u001b[1;32mdel\u001b[0m \u001b[0mmy_tuple\u001b[0m\u001b[1;33m[\u001b[0m\u001b[1;36m3\u001b[0m\u001b[1;33m]\u001b[0m\u001b[1;33m\u001b[0m\u001b[1;33m\u001b[0m\u001b[0m\n\u001b[0m",
      "\u001b[1;31mTypeError\u001b[0m: 'tuple' object doesn't support item deletion"
     ]
    }
   ],
   "source": [
    "del my_tuple[3]"
   ]
  },
  {
   "cell_type": "code",
   "execution_count": 136,
   "id": "63ae2c16",
   "metadata": {},
   "outputs": [],
   "source": [
    "del my_tuple"
   ]
  },
  {
   "cell_type": "code",
   "execution_count": 137,
   "id": "413b684a",
   "metadata": {},
   "outputs": [
    {
     "ename": "NameError",
     "evalue": "name 'my_tuple' is not defined",
     "output_type": "error",
     "traceback": [
      "\u001b[1;31m---------------------------------------------------------------------------\u001b[0m",
      "\u001b[1;31mNameError\u001b[0m                                 Traceback (most recent call last)",
      "\u001b[1;32m~\\AppData\\Local\\Temp/ipykernel_3276/3943104937.py\u001b[0m in \u001b[0;36m<module>\u001b[1;34m\u001b[0m\n\u001b[1;32m----> 1\u001b[1;33m \u001b[0mmy_tuple\u001b[0m\u001b[1;33m\u001b[0m\u001b[1;33m\u001b[0m\u001b[0m\n\u001b[0m",
      "\u001b[1;31mNameError\u001b[0m: name 'my_tuple' is not defined"
     ]
    }
   ],
   "source": [
    "my_tuple"
   ]
  },
  {
   "cell_type": "code",
   "execution_count": 139,
   "id": "3d59aae6",
   "metadata": {},
   "outputs": [],
   "source": [
    "my_tuple=tuple(list(each for each in 'applel'))"
   ]
  },
  {
   "cell_type": "code",
   "execution_count": 140,
   "id": "fa12bd5a",
   "metadata": {},
   "outputs": [
    {
     "data": {
      "text/plain": [
       "('a', 'p', 'p', 'l', 'e', 'l')"
      ]
     },
     "execution_count": 140,
     "metadata": {},
     "output_type": "execute_result"
    }
   ],
   "source": [
    "my_tuple"
   ]
  },
  {
   "cell_type": "code",
   "execution_count": 141,
   "id": "76289809",
   "metadata": {},
   "outputs": [
    {
     "data": {
      "text/plain": [
       "2"
      ]
     },
     "execution_count": 141,
     "metadata": {},
     "output_type": "execute_result"
    }
   ],
   "source": [
    "my_tuple.count('p')"
   ]
  },
  {
   "cell_type": "code",
   "execution_count": 150,
   "id": "b811f4e9",
   "metadata": {},
   "outputs": [
    {
     "data": {
      "text/plain": [
       "5"
      ]
     },
     "execution_count": 150,
     "metadata": {},
     "output_type": "execute_result"
    }
   ],
   "source": [
    "my_tuple.index('l',4)"
   ]
  },
  {
   "cell_type": "code",
   "execution_count": 148,
   "id": "6f2e3535",
   "metadata": {},
   "outputs": [
    {
     "name": "stdout",
     "output_type": "stream",
     "text": [
      "hello John\n",
      "hello Kate\n"
     ]
    }
   ],
   "source": [
    "for name in ('John','Kate'):\n",
    "    print(\"hello\",name)"
   ]
  },
  {
   "cell_type": "code",
   "execution_count": 151,
   "id": "4ae7caac",
   "metadata": {},
   "outputs": [],
   "source": [
    "my_set={1,2,3}"
   ]
  },
  {
   "cell_type": "code",
   "execution_count": 152,
   "id": "01a51e18",
   "metadata": {},
   "outputs": [
    {
     "data": {
      "text/plain": [
       "{1, 2, 3}"
      ]
     },
     "execution_count": 152,
     "metadata": {},
     "output_type": "execute_result"
    }
   ],
   "source": [
    "my_set"
   ]
  },
  {
   "cell_type": "code",
   "execution_count": 153,
   "id": "b9842676",
   "metadata": {},
   "outputs": [],
   "source": [
    "my_set={1.0,'Hello',(1,2,3)}"
   ]
  },
  {
   "cell_type": "code",
   "execution_count": 154,
   "id": "063596ba",
   "metadata": {},
   "outputs": [
    {
     "data": {
      "text/plain": [
       "{(1, 2, 3), 1.0, 'Hello'}"
      ]
     },
     "execution_count": 154,
     "metadata": {},
     "output_type": "execute_result"
    }
   ],
   "source": [
    "my_set"
   ]
  },
  {
   "cell_type": "code",
   "execution_count": 155,
   "id": "cffd4634",
   "metadata": {},
   "outputs": [],
   "source": [
    "my_set={1,2,3,4,3,2}"
   ]
  },
  {
   "cell_type": "code",
   "execution_count": 156,
   "id": "3609e7f7",
   "metadata": {},
   "outputs": [
    {
     "data": {
      "text/plain": [
       "{1, 2, 3, 4}"
      ]
     },
     "execution_count": 156,
     "metadata": {},
     "output_type": "execute_result"
    }
   ],
   "source": [
    "my_set"
   ]
  },
  {
   "cell_type": "code",
   "execution_count": 159,
   "id": "3c4529ca",
   "metadata": {},
   "outputs": [],
   "source": [
    "my_set=set([1,2,3,4,5,6,2,3,4])"
   ]
  },
  {
   "cell_type": "code",
   "execution_count": 160,
   "id": "23abdac9",
   "metadata": {},
   "outputs": [
    {
     "data": {
      "text/plain": [
       "{1, 2, 3, 4, 5, 6}"
      ]
     },
     "execution_count": 160,
     "metadata": {},
     "output_type": "execute_result"
    }
   ],
   "source": [
    "my_set"
   ]
  },
  {
   "cell_type": "code",
   "execution_count": 161,
   "id": "42be8b1e",
   "metadata": {},
   "outputs": [
    {
     "ename": "TypeError",
     "evalue": "unhashable type: 'list'",
     "output_type": "error",
     "traceback": [
      "\u001b[1;31m---------------------------------------------------------------------------\u001b[0m",
      "\u001b[1;31mTypeError\u001b[0m                                 Traceback (most recent call last)",
      "\u001b[1;32m~\\AppData\\Local\\Temp/ipykernel_3276/4133146027.py\u001b[0m in \u001b[0;36m<module>\u001b[1;34m\u001b[0m\n\u001b[1;32m----> 1\u001b[1;33m \u001b[0mmy_set\u001b[0m \u001b[1;33m=\u001b[0m \u001b[1;33m{\u001b[0m\u001b[1;36m1\u001b[0m\u001b[1;33m,\u001b[0m \u001b[1;36m2\u001b[0m\u001b[1;33m,\u001b[0m \u001b[1;33m[\u001b[0m\u001b[1;36m3\u001b[0m\u001b[1;33m,\u001b[0m \u001b[1;36m4\u001b[0m\u001b[1;33m]\u001b[0m\u001b[1;33m}\u001b[0m\u001b[1;33m\u001b[0m\u001b[1;33m\u001b[0m\u001b[0m\n\u001b[0m",
      "\u001b[1;31mTypeError\u001b[0m: unhashable type: 'list'"
     ]
    }
   ],
   "source": [
    "my_set = {1, 2, [3, 4]}"
   ]
  },
  {
   "cell_type": "code",
   "execution_count": 162,
   "id": "d5a2812a",
   "metadata": {},
   "outputs": [],
   "source": [
    "my_set={1,3}"
   ]
  },
  {
   "cell_type": "code",
   "execution_count": 164,
   "id": "40729274",
   "metadata": {},
   "outputs": [],
   "source": [
    "my_set.add(4)"
   ]
  },
  {
   "cell_type": "code",
   "execution_count": 165,
   "id": "0c132fb5",
   "metadata": {},
   "outputs": [
    {
     "data": {
      "text/plain": [
       "{1, 3, 4}"
      ]
     },
     "execution_count": 165,
     "metadata": {},
     "output_type": "execute_result"
    }
   ],
   "source": [
    "my_set"
   ]
  },
  {
   "cell_type": "code",
   "execution_count": 166,
   "id": "ff001898",
   "metadata": {},
   "outputs": [],
   "source": [
    "my_set.update([5,6,7])"
   ]
  },
  {
   "cell_type": "code",
   "execution_count": 167,
   "id": "1d6dbac0",
   "metadata": {},
   "outputs": [
    {
     "data": {
      "text/plain": [
       "{1, 3, 4, 5, 6, 7}"
      ]
     },
     "execution_count": 167,
     "metadata": {},
     "output_type": "execute_result"
    }
   ],
   "source": [
    "my_set"
   ]
  },
  {
   "cell_type": "code",
   "execution_count": 169,
   "id": "34586ff1",
   "metadata": {},
   "outputs": [],
   "source": [
    "my_set.update([4,5],{6,7,8})"
   ]
  },
  {
   "cell_type": "code",
   "execution_count": 170,
   "id": "235a1231",
   "metadata": {},
   "outputs": [
    {
     "data": {
      "text/plain": [
       "{1, 3, 4, 5, 6, 7, 8}"
      ]
     },
     "execution_count": 170,
     "metadata": {},
     "output_type": "execute_result"
    }
   ],
   "source": [
    "my_set"
   ]
  },
  {
   "cell_type": "code",
   "execution_count": 174,
   "id": "893c8a01",
   "metadata": {},
   "outputs": [],
   "source": [
    "my_set={1,3,4,5,6}"
   ]
  },
  {
   "cell_type": "code",
   "execution_count": 175,
   "id": "15a35bf0",
   "metadata": {},
   "outputs": [],
   "source": [
    "l=my_set.discard(4)"
   ]
  },
  {
   "cell_type": "code",
   "execution_count": 176,
   "id": "2527647e",
   "metadata": {},
   "outputs": [
    {
     "data": {
      "text/plain": [
       "{1, 3, 5, 6}"
      ]
     },
     "execution_count": 176,
     "metadata": {},
     "output_type": "execute_result"
    }
   ],
   "source": [
    "my_set"
   ]
  },
  {
   "cell_type": "code",
   "execution_count": 177,
   "id": "101ccd1a",
   "metadata": {},
   "outputs": [],
   "source": [
    "l"
   ]
  },
  {
   "cell_type": "code",
   "execution_count": 179,
   "id": "cd9ff3cf",
   "metadata": {},
   "outputs": [
    {
     "name": "stdout",
     "output_type": "stream",
     "text": [
      "None\n"
     ]
    }
   ],
   "source": [
    "print(l)"
   ]
  },
  {
   "cell_type": "code",
   "execution_count": 180,
   "id": "221d2227",
   "metadata": {},
   "outputs": [
    {
     "name": "stdout",
     "output_type": "stream",
     "text": [
      "45\n"
     ]
    }
   ],
   "source": [
    "a=[1,2,45]\n",
    "k=a.pop()\n",
    "print(k)"
   ]
  },
  {
   "cell_type": "code",
   "execution_count": 183,
   "id": "97f31b6f",
   "metadata": {},
   "outputs": [],
   "source": [
    "a={1,2,3}"
   ]
  },
  {
   "cell_type": "code",
   "execution_count": 184,
   "id": "7bcf67cf",
   "metadata": {},
   "outputs": [
    {
     "name": "stdout",
     "output_type": "stream",
     "text": [
      "None\n"
     ]
    }
   ],
   "source": [
    "m=a.remove(3)\n",
    "print(m)"
   ]
  },
  {
   "cell_type": "code",
   "execution_count": 185,
   "id": "d7f06f1e",
   "metadata": {},
   "outputs": [
    {
     "data": {
      "text/plain": [
       "{1, 2}"
      ]
     },
     "execution_count": 185,
     "metadata": {},
     "output_type": "execute_result"
    }
   ],
   "source": [
    "a"
   ]
  },
  {
   "cell_type": "code",
   "execution_count": 186,
   "id": "e12a0bde",
   "metadata": {},
   "outputs": [],
   "source": [
    "a.discard(4)"
   ]
  },
  {
   "cell_type": "code",
   "execution_count": 187,
   "id": "eec57d45",
   "metadata": {},
   "outputs": [
    {
     "data": {
      "text/plain": [
       "{1, 2}"
      ]
     },
     "execution_count": 187,
     "metadata": {},
     "output_type": "execute_result"
    }
   ],
   "source": [
    "a"
   ]
  },
  {
   "cell_type": "code",
   "execution_count": 188,
   "id": "8a0c9c56",
   "metadata": {},
   "outputs": [],
   "source": [
    "my_set=set(\"HelloWorld\")"
   ]
  },
  {
   "cell_type": "code",
   "execution_count": 189,
   "id": "9c8b6cd5",
   "metadata": {},
   "outputs": [
    {
     "name": "stdout",
     "output_type": "stream",
     "text": [
      "{'W', 'l', 'o', 'H', 'e', 'd', 'r'}\n"
     ]
    }
   ],
   "source": [
    "print(my_set)"
   ]
  },
  {
   "cell_type": "code",
   "execution_count": 190,
   "id": "0e8792bd",
   "metadata": {},
   "outputs": [],
   "source": [
    "my_set={78,67,43,2,15566,344,2}"
   ]
  },
  {
   "cell_type": "code",
   "execution_count": 191,
   "id": "44820c7d",
   "metadata": {},
   "outputs": [
    {
     "data": {
      "text/plain": [
       "{2, 43, 67, 78, 344, 15566}"
      ]
     },
     "execution_count": 191,
     "metadata": {},
     "output_type": "execute_result"
    }
   ],
   "source": [
    "my_set"
   ]
  },
  {
   "cell_type": "code",
   "execution_count": 192,
   "id": "a1987213",
   "metadata": {},
   "outputs": [
    {
     "name": "stdout",
     "output_type": "stream",
     "text": [
      "2\n"
     ]
    }
   ],
   "source": [
    "print(my_set.pop())"
   ]
  },
  {
   "cell_type": "code",
   "execution_count": 193,
   "id": "b0f3f96b",
   "metadata": {},
   "outputs": [
    {
     "name": "stdout",
     "output_type": "stream",
     "text": [
      "\f",
      "\n"
     ]
    }
   ],
   "source": [
    "clear my_set"
   ]
  },
  {
   "cell_type": "code",
   "execution_count": 194,
   "id": "68963dc4",
   "metadata": {},
   "outputs": [
    {
     "data": {
      "text/plain": [
       "{43, 67, 78, 344, 15566}"
      ]
     },
     "execution_count": 194,
     "metadata": {},
     "output_type": "execute_result"
    }
   ],
   "source": [
    "my_set"
   ]
  },
  {
   "cell_type": "code",
   "execution_count": 195,
   "id": "9e6e9c56",
   "metadata": {},
   "outputs": [],
   "source": [
    "my_set.clear()"
   ]
  },
  {
   "cell_type": "code",
   "execution_count": 196,
   "id": "6617c764",
   "metadata": {},
   "outputs": [
    {
     "data": {
      "text/plain": [
       "set()"
      ]
     },
     "execution_count": 196,
     "metadata": {},
     "output_type": "execute_result"
    }
   ],
   "source": [
    "my_set"
   ]
  },
  {
   "cell_type": "code",
   "execution_count": 199,
   "id": "0b24d7ab",
   "metadata": {},
   "outputs": [],
   "source": [
    "A = {1, 2, 3, 4, 5}\n",
    "B = {4, 5, 6, 7, 8}"
   ]
  },
  {
   "cell_type": "code",
   "execution_count": 200,
   "id": "d44029c0",
   "metadata": {},
   "outputs": [
    {
     "name": "stdout",
     "output_type": "stream",
     "text": [
      "{1, 2, 3, 4, 5, 6, 7, 8}\n"
     ]
    }
   ],
   "source": [
    "print(A|B)"
   ]
  },
  {
   "cell_type": "code",
   "execution_count": 201,
   "id": "cfee7028",
   "metadata": {},
   "outputs": [
    {
     "name": "stdout",
     "output_type": "stream",
     "text": [
      "{4, 5}\n"
     ]
    }
   ],
   "source": [
    "print(A&B)"
   ]
  },
  {
   "cell_type": "code",
   "execution_count": 202,
   "id": "8828cc68",
   "metadata": {},
   "outputs": [
    {
     "name": "stdout",
     "output_type": "stream",
     "text": [
      "{1, 2, 3}\n"
     ]
    }
   ],
   "source": [
    "print(A-B)"
   ]
  },
  {
   "cell_type": "code",
   "execution_count": 203,
   "id": "f27f2205",
   "metadata": {},
   "outputs": [
    {
     "name": "stdout",
     "output_type": "stream",
     "text": [
      "{1, 2, 3, 6, 7, 8}\n"
     ]
    }
   ],
   "source": [
    "print(A^B)"
   ]
  },
  {
   "cell_type": "code",
   "execution_count": 205,
   "id": "13829b9b",
   "metadata": {},
   "outputs": [],
   "source": [
    "my_set=set('apple')"
   ]
  },
  {
   "cell_type": "code",
   "execution_count": 206,
   "id": "ef72ba49",
   "metadata": {},
   "outputs": [
    {
     "data": {
      "text/plain": [
       "{'a', 'e', 'l', 'p'}"
      ]
     },
     "execution_count": 206,
     "metadata": {},
     "output_type": "execute_result"
    }
   ],
   "source": [
    "my_set"
   ]
  },
  {
   "cell_type": "code",
   "execution_count": 207,
   "id": "8c7a3749",
   "metadata": {},
   "outputs": [],
   "source": [
    "A=frozenset([1,2,3,4])"
   ]
  },
  {
   "cell_type": "code",
   "execution_count": 208,
   "id": "54bfa383",
   "metadata": {},
   "outputs": [
    {
     "data": {
      "text/plain": [
       "frozenset({1, 2, 3, 4})"
      ]
     },
     "execution_count": 208,
     "metadata": {},
     "output_type": "execute_result"
    }
   ],
   "source": [
    "A"
   ]
  },
  {
   "cell_type": "code",
   "execution_count": 210,
   "id": "fdaa5a8b",
   "metadata": {},
   "outputs": [],
   "source": [
    "B=frozenset([3,4,5,6])"
   ]
  },
  {
   "cell_type": "code",
   "execution_count": 211,
   "id": "70df828b",
   "metadata": {},
   "outputs": [
    {
     "data": {
      "text/plain": [
       "frozenset({1, 2})"
      ]
     },
     "execution_count": 211,
     "metadata": {},
     "output_type": "execute_result"
    }
   ],
   "source": [
    "A.difference(B)"
   ]
  },
  {
   "cell_type": "code",
   "execution_count": 212,
   "id": "fef2bc5a",
   "metadata": {},
   "outputs": [
    {
     "data": {
      "text/plain": [
       "frozenset({1, 2, 3, 4, 5, 6})"
      ]
     },
     "execution_count": 212,
     "metadata": {},
     "output_type": "execute_result"
    }
   ],
   "source": [
    "A|B"
   ]
  },
  {
   "cell_type": "code",
   "execution_count": 213,
   "id": "6233b94e",
   "metadata": {},
   "outputs": [
    {
     "ename": "AttributeError",
     "evalue": "'frozenset' object has no attribute 'add'",
     "output_type": "error",
     "traceback": [
      "\u001b[1;31m---------------------------------------------------------------------------\u001b[0m",
      "\u001b[1;31mAttributeError\u001b[0m                            Traceback (most recent call last)",
      "\u001b[1;32m~\\AppData\\Local\\Temp/ipykernel_3276/709424380.py\u001b[0m in \u001b[0;36m<module>\u001b[1;34m\u001b[0m\n\u001b[1;32m----> 1\u001b[1;33m \u001b[0mA\u001b[0m\u001b[1;33m.\u001b[0m\u001b[0madd\u001b[0m\u001b[1;33m(\u001b[0m\u001b[1;36m7\u001b[0m\u001b[1;33m)\u001b[0m\u001b[1;33m\u001b[0m\u001b[1;33m\u001b[0m\u001b[0m\n\u001b[0m",
      "\u001b[1;31mAttributeError\u001b[0m: 'frozenset' object has no attribute 'add'"
     ]
    }
   ],
   "source": [
    "A.add(7)"
   ]
  },
  {
   "cell_type": "code",
   "execution_count": 214,
   "id": "17f9674b",
   "metadata": {},
   "outputs": [],
   "source": [
    "my_dict={}"
   ]
  },
  {
   "cell_type": "code",
   "execution_count": 215,
   "id": "8047ab18",
   "metadata": {},
   "outputs": [
    {
     "data": {
      "text/plain": [
       "{}"
      ]
     },
     "execution_count": 215,
     "metadata": {},
     "output_type": "execute_result"
    }
   ],
   "source": [
    "my_dict"
   ]
  },
  {
   "cell_type": "code",
   "execution_count": 216,
   "id": "8bb33183",
   "metadata": {},
   "outputs": [],
   "source": [
    "my_dict={1:'apple',2:'ball'}"
   ]
  },
  {
   "cell_type": "code",
   "execution_count": 217,
   "id": "1b20c3fc",
   "metadata": {},
   "outputs": [
    {
     "data": {
      "text/plain": [
       "{1: 'apple', 2: 'ball'}"
      ]
     },
     "execution_count": 217,
     "metadata": {},
     "output_type": "execute_result"
    }
   ],
   "source": [
    "my_dict"
   ]
  },
  {
   "cell_type": "code",
   "execution_count": 219,
   "id": "d4bec5dd",
   "metadata": {},
   "outputs": [],
   "source": [
    "my_dict={'name':'john',1:[2,4,5]}"
   ]
  },
  {
   "cell_type": "code",
   "execution_count": 220,
   "id": "6de9e70d",
   "metadata": {},
   "outputs": [
    {
     "data": {
      "text/plain": [
       "{'name': 'john', 1: [2, 4, 5]}"
      ]
     },
     "execution_count": 220,
     "metadata": {},
     "output_type": "execute_result"
    }
   ],
   "source": [
    "my_dict"
   ]
  },
  {
   "cell_type": "code",
   "execution_count": 221,
   "id": "b1f5134d",
   "metadata": {},
   "outputs": [],
   "source": [
    "my_dict=dict({1:'apple',2:'ball'})"
   ]
  },
  {
   "cell_type": "code",
   "execution_count": 222,
   "id": "96a43963",
   "metadata": {},
   "outputs": [
    {
     "data": {
      "text/plain": [
       "{1: 'apple', 2: 'ball'}"
      ]
     },
     "execution_count": 222,
     "metadata": {},
     "output_type": "execute_result"
    }
   ],
   "source": [
    "my_dict"
   ]
  },
  {
   "cell_type": "code",
   "execution_count": 223,
   "id": "53632ba5",
   "metadata": {},
   "outputs": [],
   "source": [
    "my_dict = dict([(1,'apple'), (2,'ball')])"
   ]
  },
  {
   "cell_type": "code",
   "execution_count": 224,
   "id": "b59ea527",
   "metadata": {},
   "outputs": [
    {
     "data": {
      "text/plain": [
       "{1: 'apple', 2: 'ball'}"
      ]
     },
     "execution_count": 224,
     "metadata": {},
     "output_type": "execute_result"
    }
   ],
   "source": [
    "my_dict"
   ]
  },
  {
   "cell_type": "code",
   "execution_count": 225,
   "id": "813e70b2",
   "metadata": {},
   "outputs": [
    {
     "data": {
      "text/plain": [
       "'apple'"
      ]
     },
     "execution_count": 225,
     "metadata": {},
     "output_type": "execute_result"
    }
   ],
   "source": [
    "my_dict[1]"
   ]
  },
  {
   "cell_type": "code",
   "execution_count": 228,
   "id": "bbdc8dcd",
   "metadata": {},
   "outputs": [
    {
     "name": "stdout",
     "output_type": "stream",
     "text": [
      "ball\n"
     ]
    }
   ],
   "source": [
    "print(my_dict.get(2))"
   ]
  },
  {
   "cell_type": "code",
   "execution_count": 229,
   "id": "99527d5b",
   "metadata": {},
   "outputs": [],
   "source": [
    "my_dict['address']='Siverspring'"
   ]
  },
  {
   "cell_type": "code",
   "execution_count": 230,
   "id": "7b1698ff",
   "metadata": {},
   "outputs": [
    {
     "data": {
      "text/plain": [
       "{1: 'apple', 2: 'ball', 'address': 'Siverspring'}"
      ]
     },
     "execution_count": 230,
     "metadata": {},
     "output_type": "execute_result"
    }
   ],
   "source": [
    "my_dict"
   ]
  },
  {
   "cell_type": "code",
   "execution_count": 232,
   "id": "1ce8b0af",
   "metadata": {},
   "outputs": [
    {
     "data": {
      "text/plain": [
       "('address', 'Siverspring')"
      ]
     },
     "execution_count": 232,
     "metadata": {},
     "output_type": "execute_result"
    }
   ],
   "source": [
    "my_dict.popitem()"
   ]
  },
  {
   "cell_type": "code",
   "execution_count": 234,
   "id": "e181be8f",
   "metadata": {},
   "outputs": [
    {
     "data": {
      "text/plain": [
       "'apple'"
      ]
     },
     "execution_count": 234,
     "metadata": {},
     "output_type": "execute_result"
    }
   ],
   "source": [
    "my_dict.pop(1)"
   ]
  },
  {
   "cell_type": "code",
   "execution_count": 235,
   "id": "e8064e99",
   "metadata": {},
   "outputs": [
    {
     "data": {
      "text/plain": [
       "{2: 'ball'}"
      ]
     },
     "execution_count": 235,
     "metadata": {},
     "output_type": "execute_result"
    }
   ],
   "source": [
    "my_dict"
   ]
  },
  {
   "cell_type": "code",
   "execution_count": 236,
   "id": "77435789",
   "metadata": {},
   "outputs": [],
   "source": [
    "del my_dict"
   ]
  },
  {
   "cell_type": "code",
   "execution_count": 247,
   "id": "a35a4c92",
   "metadata": {},
   "outputs": [],
   "source": [
    "squares={x:x*x for x in range(6)}"
   ]
  },
  {
   "cell_type": "code",
   "execution_count": 248,
   "id": "57c977b3",
   "metadata": {},
   "outputs": [
    {
     "data": {
      "text/plain": [
       "{0: 0, 1: 1, 2: 4, 3: 9, 4: 16, 5: 25}"
      ]
     },
     "execution_count": 248,
     "metadata": {},
     "output_type": "execute_result"
    }
   ],
   "source": [
    "squares"
   ]
  },
  {
   "cell_type": "code",
   "execution_count": 249,
   "id": "16cef354",
   "metadata": {},
   "outputs": [
    {
     "data": {
      "text/plain": [
       "dict"
      ]
     },
     "execution_count": 249,
     "metadata": {},
     "output_type": "execute_result"
    }
   ],
   "source": [
    "type(squares)"
   ]
  },
  {
   "cell_type": "code",
   "execution_count": 250,
   "id": "448e1e38",
   "metadata": {},
   "outputs": [],
   "source": [
    "squares={x:x*x for x in range(10) if x%2!=0}"
   ]
  },
  {
   "cell_type": "code",
   "execution_count": 251,
   "id": "138fee70",
   "metadata": {},
   "outputs": [
    {
     "data": {
      "text/plain": [
       "{1: 1, 3: 9, 5: 25, 7: 49, 9: 81}"
      ]
     },
     "execution_count": 251,
     "metadata": {},
     "output_type": "execute_result"
    }
   ],
   "source": [
    "squares"
   ]
  },
  {
   "cell_type": "code",
   "execution_count": 252,
   "id": "5e6aec95",
   "metadata": {},
   "outputs": [
    {
     "name": "stdout",
     "output_type": "stream",
     "text": [
      "1\n",
      "9\n",
      "25\n",
      "49\n",
      "81\n"
     ]
    }
   ],
   "source": [
    "for i in squares:\n",
    "    print(squares[i])"
   ]
  },
  {
   "cell_type": "code",
   "execution_count": 253,
   "id": "3239c5ea",
   "metadata": {},
   "outputs": [],
   "source": [
    "squares={1:1,10:100,5:25,7:49,9:81}"
   ]
  },
  {
   "cell_type": "code",
   "execution_count": 254,
   "id": "07c7c697",
   "metadata": {},
   "outputs": [
    {
     "name": "stdout",
     "output_type": "stream",
     "text": [
      "[1, 5, 7, 9, 10]\n"
     ]
    }
   ],
   "source": [
    "print(sorted(squares))"
   ]
  },
  {
   "cell_type": "code",
   "execution_count": 255,
   "id": "26b27d0d",
   "metadata": {},
   "outputs": [
    {
     "data": {
      "text/plain": [
       "{1: 1, 10: 100, 5: 25, 7: 49, 9: 81}"
      ]
     },
     "execution_count": 255,
     "metadata": {},
     "output_type": "execute_result"
    }
   ],
   "source": [
    "squares"
   ]
  },
  {
   "cell_type": "code",
   "execution_count": 256,
   "id": "9b63c9eb",
   "metadata": {},
   "outputs": [
    {
     "name": "stdout",
     "output_type": "stream",
     "text": [
      "5\n"
     ]
    }
   ],
   "source": [
    "print(len(squares))"
   ]
  },
  {
   "cell_type": "code",
   "execution_count": 257,
   "id": "f1c4b03b",
   "metadata": {},
   "outputs": [],
   "source": [
    "people={1:{'name':'john','age':'27','sex':'Male'},2:{'name':'Marie','age':'22','sex':'Female'}}"
   ]
  },
  {
   "cell_type": "code",
   "execution_count": 258,
   "id": "7222023c",
   "metadata": {},
   "outputs": [
    {
     "name": "stdout",
     "output_type": "stream",
     "text": [
      "{1: {'name': 'john', 'age': '27', 'sex': 'Male'}, 2: {'name': 'Marie', 'age': '22', 'sex': 'Female'}}\n"
     ]
    }
   ],
   "source": [
    "print(people)"
   ]
  },
  {
   "cell_type": "code",
   "execution_count": 259,
   "id": "5d2b58da",
   "metadata": {},
   "outputs": [
    {
     "name": "stdout",
     "output_type": "stream",
     "text": [
      "27\n"
     ]
    }
   ],
   "source": [
    "print(people[1]['age'])"
   ]
  },
  {
   "cell_type": "code",
   "execution_count": 260,
   "id": "49b58394",
   "metadata": {},
   "outputs": [
    {
     "name": "stdout",
     "output_type": "stream",
     "text": [
      "Female\n"
     ]
    }
   ],
   "source": [
    "print(people[2]['sex'])"
   ]
  },
  {
   "cell_type": "code",
   "execution_count": 261,
   "id": "3cd587e8",
   "metadata": {},
   "outputs": [],
   "source": [
    "people[3]={}"
   ]
  },
  {
   "cell_type": "code",
   "execution_count": 262,
   "id": "d4f8a94a",
   "metadata": {},
   "outputs": [],
   "source": [
    "people[3]['name']='Luna'\n",
    "people[3]['age']='24'\n",
    "people[3]['sex']=\"Female\"\n",
    "people[3]['married']='No'"
   ]
  },
  {
   "cell_type": "code",
   "execution_count": 263,
   "id": "de13489a",
   "metadata": {},
   "outputs": [
    {
     "data": {
      "text/plain": [
       "{1: {'name': 'john', 'age': '27', 'sex': 'Male'},\n",
       " 2: {'name': 'Marie', 'age': '22', 'sex': 'Female'},\n",
       " 3: {'name': 'Luna', 'age': '24', 'sex': 'Female', 'married': 'No'}}"
      ]
     },
     "execution_count": 263,
     "metadata": {},
     "output_type": "execute_result"
    }
   ],
   "source": [
    "people"
   ]
  },
  {
   "cell_type": "code",
   "execution_count": 264,
   "id": "3c9491b7",
   "metadata": {},
   "outputs": [
    {
     "name": "stdout",
     "output_type": "stream",
     "text": [
      "{'name': 'Luna', 'age': '24', 'sex': 'Female', 'married': 'No'}\n"
     ]
    }
   ],
   "source": [
    "print(people[3])"
   ]
  },
  {
   "cell_type": "code",
   "execution_count": 268,
   "id": "1b0d378d",
   "metadata": {},
   "outputs": [],
   "source": [
    "people[4]={'name': 'Peter', 'age': '29', 'sex': 'Male', 'married': 'Yes'}"
   ]
  },
  {
   "cell_type": "code",
   "execution_count": 269,
   "id": "7feee288",
   "metadata": {},
   "outputs": [
    {
     "name": "stdout",
     "output_type": "stream",
     "text": [
      "{'name': 'Peter', 'age': '29', 'sex': 'Male', 'married': 'Yes'}\n"
     ]
    }
   ],
   "source": [
    "print(people[4])"
   ]
  },
  {
   "cell_type": "code",
   "execution_count": 270,
   "id": "a5f483ff",
   "metadata": {},
   "outputs": [
    {
     "data": {
      "text/plain": [
       "{1: {'name': 'john', 'age': '27', 'sex': 'Male'},\n",
       " 2: {'name': 'Marie', 'age': '22', 'sex': 'Female'},\n",
       " 3: {'name': 'Luna', 'age': '24', 'sex': 'Female', 'married': 'No'},\n",
       " 4: {'name': 'Peter', 'age': '29', 'sex': 'Male', 'married': 'Yes'}}"
      ]
     },
     "execution_count": 270,
     "metadata": {},
     "output_type": "execute_result"
    }
   ],
   "source": [
    "people"
   ]
  },
  {
   "cell_type": "code",
   "execution_count": 271,
   "id": "94d5e462",
   "metadata": {},
   "outputs": [],
   "source": [
    "del people[3],people[4]"
   ]
  },
  {
   "cell_type": "code",
   "execution_count": 272,
   "id": "88c39630",
   "metadata": {},
   "outputs": [
    {
     "data": {
      "text/plain": [
       "{1: {'name': 'john', 'age': '27', 'sex': 'Male'},\n",
       " 2: {'name': 'Marie', 'age': '22', 'sex': 'Female'}}"
      ]
     },
     "execution_count": 272,
     "metadata": {},
     "output_type": "execute_result"
    }
   ],
   "source": [
    "people"
   ]
  },
  {
   "cell_type": "code",
   "execution_count": null,
   "id": "e39cff7b",
   "metadata": {},
   "outputs": [],
   "source": []
  }
 ],
 "metadata": {
  "kernelspec": {
   "display_name": "Python 3 (ipykernel)",
   "language": "python",
   "name": "python3"
  },
  "language_info": {
   "codemirror_mode": {
    "name": "ipython",
    "version": 3
   },
   "file_extension": ".py",
   "mimetype": "text/x-python",
   "name": "python",
   "nbconvert_exporter": "python",
   "pygments_lexer": "ipython3",
   "version": "3.9.7"
  }
 },
 "nbformat": 4,
 "nbformat_minor": 5
}
