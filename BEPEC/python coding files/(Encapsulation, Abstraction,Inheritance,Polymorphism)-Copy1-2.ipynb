{
 "cells": [
  {
   "cell_type": "markdown",
   "metadata": {},
   "source": [
    "# Polymorphism\n",
    "Same method but different classes"
   ]
  },
  {
   "cell_type": "code",
   "execution_count": 32,
   "metadata": {},
   "outputs": [
    {
     "name": "stdout",
     "output_type": "stream",
     "text": [
      "Meow\n",
      "I am a cat. My name is Kitty. I am 2.5 years old.\n",
      "Meow\n",
      "Bark\n",
      "I am a dog. My name is Fluffy. I am 4 years old.\n",
      "Bark\n"
     ]
    }
   ],
   "source": [
    "class Cat:\n",
    "    def __init__(self, name, age):\n",
    "        self.name = name\n",
    "        self.age = age\n",
    "\n",
    "    def info(self):\n",
    "        print(f\"I am a cat. My name is {self.name}. I am {self.age} years old.\")\n",
    "\n",
    "    def make_sound(self):\n",
    "        print(\"Meow\")\n",
    "\n",
    "\n",
    "class Dog:\n",
    "    def __init__(self, name, age):\n",
    "        self.name = name\n",
    "        self.age = age\n",
    "\n",
    "    def info(self):\n",
    "        print(f\"I am a dog. My name is {self.name}. I am {self.age} years old.\")\n",
    "\n",
    "    def make_sound(self):\n",
    "        print(\"Bark\")\n",
    "\n",
    "\n",
    "cat1 = Cat(\"Kitty\", 2.5)\n",
    "dog1 = Dog(\"Fluffy\", 4)\n",
    "\n",
    "for animal in (cat1, dog1):\n",
    "    animal.make_sound()\n",
    "    animal.info()\n",
    "    animal.make_sound() "
   ]
  },
  {
   "cell_type": "code",
   "execution_count": 11,
   "metadata": {},
   "outputs": [
    {
     "name": "stdout",
     "output_type": "stream",
     "text": [
      "Welcome to myntra\n",
      "welcome to mens section\n",
      "welcome to women section\n",
      "welcome to mens footware\n",
      "thanks for searching crocs\n",
      "welcome to clothing\n",
      "thanks fot searching Gstar\n"
     ]
    }
   ],
   "source": [
    "class myntra:\n",
    "    def __init__(self):\n",
    "        print(\"Welcome to myntra\")\n",
    "        self.m = self.Mens()\n",
    "        self.w = self.womens()\n",
    "\n",
    "    class Mens:\n",
    "        def __init__(self):\n",
    "            print(\"welcome to mens section\")\n",
    "\n",
    "        class footware:\n",
    "            def __init__(self):\n",
    "                print(\"welcome to mens footware\")\n",
    "\n",
    "            def woodland(self):\n",
    "                print(\"Thanks for searching woodland\")\n",
    "\n",
    "            def crocs(self):\n",
    "                print(\"thanks for searching crocs\")\n",
    "\n",
    "        class clothing:\n",
    "            def __init__(self):\n",
    "                print(\"welcome to clothing\")\n",
    "\n",
    "            def Gstar(self):\n",
    "                print(\"thanks fot searching Gstar\")\n",
    "\n",
    "\n",
    "    class womens:\n",
    "        def __init__(self):\n",
    "            print(\"welcome to women section\")\n",
    "\n",
    "        class footware:\n",
    "            def __init__(self):\n",
    "                print(\"welcome to  women footware\")\n",
    "\n",
    "            def woodland(self):\n",
    "                print(\"Thanks for searching woodland\")\n",
    "\n",
    "            def crocs(self):\n",
    "                print(\"thanks for searching crocs\")\n",
    "\n",
    "        class clothing:\n",
    "            def __init__(self):\n",
    "                print(\"welcome to clothing\")\n",
    "\n",
    "            def Gstar(self):\n",
    "                print(\"thanks fot searching Gstar\")\n",
    "\n",
    "shopping = myntra()\n",
    "shopping.m.footware().crocs()\n",
    "shopping.w.clothing().Gstar()\n",
    "                        \n",
    "# shoping = myntra()\n",
    "# men = shoping.Mens()\n",
    "# foot = men.footware()\n",
    "# foot.woodland()\n",
    "\n",
    "\n",
    "# women = shoping.womens()\n",
    "# foot1 = women.footware()\n",
    "# foot1.woodland()"
   ]
  },
  {
   "cell_type": "markdown",
   "metadata": {},
   "source": [
    "### example 2"
   ]
  },
  {
   "cell_type": "code",
   "execution_count": null,
   "metadata": {},
   "outputs": [],
   "source": [
    "class processor:\n",
    "    def processor_info(self):\n",
    "        print(\"Thanks for using processor\")\n",
    "\n",
    "class camera:\n",
    "    def camera_info(self):\n",
    "        print(\"Thanks for using dual cameras\")\n",
    "\n",
    "class mobile_display:\n",
    "    def mobile_display_info(self):\n",
    "        print(\"thanks for using our dispaly\")\n",
    "\n",
    "\n",
    "class iphone:\n",
    "    def __init__(self):\n",
    "        self.processor = processor()\n",
    "        self.camera = camera()\n",
    "        self.mobile_display = mobile_display()\n",
    "\n",
    "    def total_info(self):\n",
    "        print(\"Welcome to iphone \")\n",
    "        self.processor.processor_info()\n",
    "        self.camera.camera_info()\n",
    "        self.mobile_display.mobile_display_info()\n",
    "\n",
    "uday = iphone()\n",
    "uday.total_info()"
   ]
  },
  {
   "cell_type": "code",
   "execution_count": 1,
   "metadata": {},
   "outputs": [],
   "source": [
    "# Example 3"
   ]
  },
  {
   "cell_type": "code",
   "execution_count": 4,
   "metadata": {},
   "outputs": [
    {
     "name": "stdout",
     "output_type": "stream",
     "text": [
      "Welcome to xyz news\n",
      "movie news\n",
      "movie news\n",
      "movie news\n",
      "sports news\n",
      "sports news\n",
      "political news\n",
      "political news\n",
      "political news\n"
     ]
    }
   ],
   "source": [
    "class sports_news:\n",
    "    def sports_info(self):\n",
    "        print(\"sports news\")\n",
    "\n",
    "class political_news:\n",
    "    def political_info(self):\n",
    "        print(\"political news\")\n",
    "        \n",
    "class movie_news:\n",
    "    def movie_info(self):\n",
    "        print(\"movie news\")\n",
    "\n",
    "class xyz_news:\n",
    "    def __init__(self):\n",
    "        self.sports_news= sports_news()\n",
    "        self.political_news = political_news()\n",
    "        self.movie_news = movie_news()\n",
    "\n",
    "    def total_info(self):\n",
    "        print(\"Welcome to xyz news\")\n",
    "        self.movie_news.movie_info()\n",
    "        self.sports_news.sports_info()\n",
    "        self.political_news.political_info()\n",
    "\n",
    "ob = xyz_news()\n",
    "ob.total_info()"
   ]
  },
  {
   "cell_type": "code",
   "execution_count": null,
   "metadata": {},
   "outputs": [],
   "source": [
    "class laptop:\n",
    "    def __init__(self, brand, color, inch):\n",
    "        self.brand = brand\n",
    "        self.color = color\n",
    "        self.inch = inch\n",
    "\n",
    "    def laptop_info(self):\n",
    "        print(f'laptop brand : {self.brand}\\n color : {self.color}\\n inch: {self.inch}')\n",
    "\n",
    "\n",
    "class emp:\n",
    "    def __init__(self, ename, eno, lpt):\n",
    "        self.ename = ename\n",
    "        self.eno = eno\n",
    "        self.lpt = lpt\n",
    "\n",
    "    def emp_info(self):\n",
    "        print('Emp Name', self.ename)\n",
    "        print(\"Emp No \", self.eno)\n",
    "        print(\"Emp laptop info :\", )\n",
    "        self.lpt.laptop_info()\n",
    "\n",
    "laptop1 = laptop(\"lenovo\", \"black\", 15)\n",
    "emp1 = emp(\"sharma\", 12121, laptop1)\n",
    "emp1.emp_info()\n",
    "\n",
    "\n"
   ]
  },
  {
   "cell_type": "markdown",
   "metadata": {},
   "source": [
    "# Inheritance ( IS -A relation)"
   ]
  },
  {
   "cell_type": "markdown",
   "metadata": {},
   "source": [
    "\n",
    "- Inheritance is a term that is used to describe a Python class within another class. Classes called subclasses or child    classes can inherit values from parent classes, similar to how children inherit characteristics from their parents in the real world.\n",
    "\n",
    "- Inheritance is useful because it allows us to create subclasses that have the same value types as a parent class, without having to declare those types multiple times"
   ]
  },
  {
   "cell_type": "markdown",
   "metadata": {},
   "source": [
    "## Single inheritance"
   ]
  },
  {
   "cell_type": "code",
   "execution_count": 57,
   "metadata": {},
   "outputs": [],
   "source": [
    "class parent: # base class, parent class\n",
    "    \n",
    "    def house(self):\n",
    "        print(\"I have house\")\n",
    "\n",
    "    def car(self):\n",
    "        print(\"I have car\")"
   ]
  },
  {
   "cell_type": "code",
   "execution_count": 58,
   "metadata": {},
   "outputs": [],
   "source": [
    "class child(parent): #Derived class , child class \n",
    "    \n",
    "    def bike(self):\n",
    "        print(\"I have Bike\")\n"
   ]
  },
  {
   "cell_type": "code",
   "execution_count": 60,
   "metadata": {
    "scrolled": true
   },
   "outputs": [
    {
     "name": "stdout",
     "output_type": "stream",
     "text": [
      "I have Bike\n"
     ]
    }
   ],
   "source": [
    "ob = child()\n",
    "ob.bike()"
   ]
  },
  {
   "cell_type": "markdown",
   "metadata": {},
   "source": [
    "## Multilevel inheritance"
   ]
  },
  {
   "cell_type": "code",
   "execution_count": 4,
   "metadata": {},
   "outputs": [],
   "source": [
    "class test:\n",
    "    def __init__(self):\n",
    "        self._a = 10\n",
    "        \n",
    "class test1(test):\n",
    "    def m1(self):\n",
    "        print(self._a)\n",
    "    "
   ]
  },
  {
   "cell_type": "code",
   "execution_count": 5,
   "metadata": {},
   "outputs": [
    {
     "name": "stdout",
     "output_type": "stream",
     "text": [
      "10\n"
     ]
    }
   ],
   "source": [
    "ob = test1()\n",
    "ob.m1()"
   ]
  },
  {
   "cell_type": "code",
   "execution_count": 61,
   "metadata": {},
   "outputs": [],
   "source": [
    "class parent: # base class, parent class\n",
    "    \n",
    "    def house(self):\n",
    "        print(\"I have house\")\n",
    "\n",
    "    def car(self):\n",
    "        print(\"I have car\")\n",
    "    \n",
    "class child(parent): #Derived class , child class \n",
    "    \n",
    "    def bike(self):\n",
    "        print(\"I have Bike\")\n",
    "    \n",
    "class grandchild(child):\n",
    "    \n",
    "    def cycle(self):\n",
    "        print(\"I have cycle\")\n"
   ]
  },
  {
   "cell_type": "code",
   "execution_count": 62,
   "metadata": {},
   "outputs": [
    {
     "name": "stdout",
     "output_type": "stream",
     "text": [
      "I have house\n"
     ]
    }
   ],
   "source": [
    "g1 = grandchild()\n",
    "g1.house()"
   ]
  },
  {
   "cell_type": "markdown",
   "metadata": {},
   "source": [
    "## Hierarchical inheritance"
   ]
  },
  {
   "cell_type": "code",
   "execution_count": 12,
   "metadata": {},
   "outputs": [
    {
     "name": "stdout",
     "output_type": "stream",
     "text": [
      "Iam parent, I have hosue\n"
     ]
    },
    {
     "ename": "AttributeError",
     "evalue": "'child2' object has no attribute 'car'",
     "output_type": "error",
     "traceback": [
      "\u001b[0;31m---------------------------------------------------------------------------\u001b[0m",
      "\u001b[0;31mAttributeError\u001b[0m                            Traceback (most recent call last)",
      "\u001b[0;32m<ipython-input-12-08603e218978>\u001b[0m in \u001b[0;36m<module>\u001b[0;34m\u001b[0m\n\u001b[1;32m     16\u001b[0m \u001b[0mob\u001b[0m \u001b[0;34m=\u001b[0m \u001b[0mchild2\u001b[0m\u001b[0;34m(\u001b[0m\u001b[0;34m)\u001b[0m\u001b[0;34m\u001b[0m\u001b[0;34m\u001b[0m\u001b[0m\n\u001b[1;32m     17\u001b[0m \u001b[0mob\u001b[0m\u001b[0;34m.\u001b[0m\u001b[0mhouse\u001b[0m\u001b[0;34m(\u001b[0m\u001b[0;34m)\u001b[0m\u001b[0;34m\u001b[0m\u001b[0;34m\u001b[0m\u001b[0m\n\u001b[0;32m---> 18\u001b[0;31m \u001b[0mob\u001b[0m\u001b[0;34m.\u001b[0m\u001b[0mcar\u001b[0m\u001b[0;34m(\u001b[0m\u001b[0;34m)\u001b[0m\u001b[0;34m\u001b[0m\u001b[0;34m\u001b[0m\u001b[0m\n\u001b[0m\u001b[1;32m     19\u001b[0m \u001b[0mob\u001b[0m \u001b[0;34m=\u001b[0m \u001b[0mchild1\u001b[0m\u001b[0;34m(\u001b[0m\u001b[0;34m)\u001b[0m\u001b[0;34m\u001b[0m\u001b[0;34m\u001b[0m\u001b[0m\n\u001b[1;32m     20\u001b[0m \u001b[0mob\u001b[0m\u001b[0;34m.\u001b[0m\u001b[0mcar\u001b[0m\u001b[0;34m(\u001b[0m\u001b[0;34m)\u001b[0m\u001b[0;34m\u001b[0m\u001b[0;34m\u001b[0m\u001b[0m\n",
      "\u001b[0;31mAttributeError\u001b[0m: 'child2' object has no attribute 'car'"
     ]
    }
   ],
   "source": [
    "\n",
    "class parent:\n",
    "\n",
    "    def house(self):\n",
    "        print(\"Iam parent, I have hosue\")\n",
    "\n",
    "class child1(parent):\n",
    "\n",
    "    def car(self):\n",
    "        print(\"Iam child, I have car\")\n",
    "\n",
    "class child2(parent):\n",
    "\n",
    "    def bike(self):\n",
    "        print(\"Iam grand child, I have bike\")\n",
    "\n",
    "ob = child2()\n",
    "ob.house()\n",
    "ob.car()"
   ]
  },
  {
   "cell_type": "code",
   "execution_count": 13,
   "metadata": {},
   "outputs": [
    {
     "name": "stdout",
     "output_type": "stream",
     "text": [
      "Iam child, I have car\n"
     ]
    }
   ],
   "source": [
    "ob = child1()\n",
    "ob.car()"
   ]
  },
  {
   "cell_type": "markdown",
   "metadata": {},
   "source": [
    "## multiple inheritance"
   ]
  },
  {
   "cell_type": "code",
   "execution_count": 17,
   "metadata": {},
   "outputs": [],
   "source": [
    "\n",
    "class father:\n",
    "\n",
    "    def house(self):\n",
    "        print(\"Iam Child, I have hosue\")\n",
    "\n",
    "class mother:\n",
    "\n",
    "    def car(self):\n",
    "        print(\"Iam child, I have car\")\n",
    "\n",
    "class child(father, mother):\n",
    "\n",
    "    def bike(self):\n",
    "        print(\"Iam grand child, I have bike\")\n",
    "\n"
   ]
  },
  {
   "cell_type": "code",
   "execution_count": 18,
   "metadata": {},
   "outputs": [
    {
     "name": "stdout",
     "output_type": "stream",
     "text": [
      "Iam Child, I have hosue\n",
      "Iam child, I have car\n"
     ]
    }
   ],
   "source": [
    "ccc1 = child()\n",
    "ccc1.house()\n",
    "ccc1.car()"
   ]
  },
  {
   "cell_type": "code",
   "execution_count": 19,
   "metadata": {},
   "outputs": [],
   "source": [
    "class parent: # base class, parent class\n",
    "    \n",
    "    def __init__(self):\n",
    "        print(\"im parent\")\n",
    "        \n",
    "    def house(self):\n",
    "        print(\"I have house\")\n",
    "\n",
    "    def car(self):\n",
    "        print(\"I have car\")\n",
    "    \n",
    "class child(parent): #Derived class , child class \n",
    "    \n",
    "    def __init__(self):\n",
    "        super().__init__()\n",
    "        print(\"im child\")\n",
    "    \n",
    "    def bike(self):\n",
    "        print(\"I have Bike\")\n"
   ]
  },
  {
   "cell_type": "code",
   "execution_count": 20,
   "metadata": {},
   "outputs": [
    {
     "name": "stdout",
     "output_type": "stream",
     "text": [
      "im parent\n",
      "im child\n"
     ]
    }
   ],
   "source": [
    "obb = child()"
   ]
  },
  {
   "cell_type": "markdown",
   "metadata": {},
   "source": [
    "Super()\n",
    "In an inherited subclass, a parent class can be referred to with the use of the super() function. The super function returns a temporary object of the superclass that allows access to all of its methods to its child class."
   ]
  },
  {
   "cell_type": "code",
   "execution_count": 23,
   "metadata": {},
   "outputs": [],
   "source": [
    "class Mammal(object):\n",
    "    def __init__(self, mammalName):\n",
    "        print(mammalName, 'is a warm-blooded animal.')\n",
    "    \n",
    "class Dog(Mammal):\n",
    "    def __init__(self):\n",
    "        print('Dog has four legs.')\n",
    "        super().__init__('Dog')"
   ]
  },
  {
   "cell_type": "code",
   "execution_count": 25,
   "metadata": {},
   "outputs": [
    {
     "name": "stdout",
     "output_type": "stream",
     "text": [
      "Dog has four legs.\n",
      "Dog is a warm-blooded animal.\n"
     ]
    }
   ],
   "source": [
    "d = Dog()"
   ]
  },
  {
   "cell_type": "code",
   "execution_count": 31,
   "metadata": {},
   "outputs": [
    {
     "name": "stdout",
     "output_type": "stream",
     "text": [
      "It is a mammal.\n",
      "It is a domestic animal.\n",
      "Has legs and tail\n"
     ]
    }
   ],
   "source": [
    "class Animals:\n",
    "     \n",
    "    # Initializing constructor\n",
    "    def __init__(self):\n",
    "        self.legs = 4\n",
    "        self.domestic = True\n",
    "        self.tail = True\n",
    "        self.mammals = True\n",
    "     \n",
    "    def isMammal(self):\n",
    "        if self.mammals:\n",
    "            print(\"It is a mammal.\")\n",
    "     \n",
    "    def isDomestic(self):\n",
    "        if self.domestic:\n",
    "            print(\"It is a domestic animal.\")\n",
    "     \n",
    "class Dogs(Animals):\n",
    "    def __init__(self):\n",
    "        super().__init__()\n",
    " \n",
    "    def isMammal(self):\n",
    "        super().isMammal()\n",
    " \n",
    "class Horses(Animals):\n",
    "    def __init__(self):\n",
    "        super().__init__()\n",
    " \n",
    "    def hasTailandLegs(self):\n",
    "        if self.tail and self.legs == 4:\n",
    "            print(\"Has legs and tail\")\n",
    " \n",
    "\n",
    "h = Horses()\n",
    "h.isMammal()\n",
    "h.isDomestic()\n",
    "h.hasTailandLegs()"
   ]
  },
  {
   "cell_type": "markdown",
   "metadata": {},
   "source": [
    "# Encapsulation"
   ]
  },
  {
   "cell_type": "code",
   "execution_count": null,
   "metadata": {},
   "outputs": [],
   "source": [
    "#public: Public  (generally members declared in a class) are accessible from outside the class.\n",
    "#protected: The members of a class that are declared protected are only accessible which are deriveved from a base class dit. adding a single underscore ‘_’ symbol before the data member\n",
    "# private:The members of a class that are declared private are accessible within the class only,\n",
    "        #private access modifier is the most secure access modifier. adding a double underscore ‘__’ symbol before the data member"
   ]
  },
  {
   "cell_type": "code",
   "execution_count": 67,
   "metadata": {},
   "outputs": [
    {
     "name": "stdout",
     "output_type": "stream",
     "text": [
      "Name:  Jessa Salary: 10000\n",
      "Name:  Jessa Salary: 10000\n"
     ]
    }
   ],
   "source": [
    "class Employee:\n",
    "    # constructor\n",
    "    def __init__(self, name, salary):\n",
    "        # public data members\n",
    "        self.name = name\n",
    "        self.salary = salary\n",
    "\n",
    "    # public instance methods\n",
    "    def show(self):\n",
    "        # accessing public data member\n",
    "        print(\"Name: \", self.name, 'Salary:', self.salary)\n",
    "\n",
    "# creating object of a class\n",
    "emp = Employee('Jessa', 10000)\n",
    "\n",
    "# accessing public data members\n",
    "print(\"Name: \", emp.name, 'Salary:', emp.salary)\n",
    "\n",
    "# calling public method of the class\n",
    "emp.show()"
   ]
  },
  {
   "cell_type": "code",
   "execution_count": 68,
   "metadata": {},
   "outputs": [
    {
     "ename": "AttributeError",
     "evalue": "'Employee' object has no attribute '__salary'",
     "output_type": "error",
     "traceback": [
      "\u001b[0;31m---------------------------------------------------------------------------\u001b[0m",
      "\u001b[0;31mAttributeError\u001b[0m                            Traceback (most recent call last)",
      "\u001b[0;32m<ipython-input-68-6545f17ab6db>\u001b[0m in \u001b[0;36m<module>\u001b[0;34m\u001b[0m\n\u001b[1;32m     11\u001b[0m \u001b[0;34m\u001b[0m\u001b[0m\n\u001b[1;32m     12\u001b[0m \u001b[0;31m# accessing private data members\u001b[0m\u001b[0;34m\u001b[0m\u001b[0;34m\u001b[0m\u001b[0;34m\u001b[0m\u001b[0m\n\u001b[0;32m---> 13\u001b[0;31m \u001b[0mprint\u001b[0m\u001b[0;34m(\u001b[0m\u001b[0;34m'Salary:'\u001b[0m\u001b[0;34m,\u001b[0m \u001b[0memp\u001b[0m\u001b[0;34m.\u001b[0m\u001b[0m__salary\u001b[0m\u001b[0;34m)\u001b[0m\u001b[0;34m\u001b[0m\u001b[0;34m\u001b[0m\u001b[0m\n\u001b[0m",
      "\u001b[0;31mAttributeError\u001b[0m: 'Employee' object has no attribute '__salary'"
     ]
    }
   ],
   "source": [
    "class Employee:\n",
    "    # constructor\n",
    "    def __init__(self, name, salary):\n",
    "        # public data member\n",
    "        self.name = name\n",
    "        # private member\n",
    "        self.__salary = salary\n",
    "\n",
    "# creating object of a class\n",
    "emp = Employee('Jessa', 10000)\n",
    "\n",
    "# accessing private data members\n",
    "print('Salary:', emp.__salary)"
   ]
  },
  {
   "cell_type": "code",
   "execution_count": 69,
   "metadata": {},
   "outputs": [
    {
     "name": "stdout",
     "output_type": "stream",
     "text": [
      "Name:  Jessa Salary: 10000\n"
     ]
    }
   ],
   "source": [
    "class Employee:\n",
    "    # constructor\n",
    "    def __init__(self, name, salary):\n",
    "        # public data member\n",
    "        self.name = name\n",
    "        # private member\n",
    "        self.__salary = salary\n",
    "\n",
    "    # public instance methods\n",
    "    def show(self):\n",
    "        # private members are accessible from a class\n",
    "        print(\"Name: \", self.name, 'Salary:', self.__salary)\n",
    "\n",
    "# creating object of a class\n",
    "emp = Employee('Jessa', 10000)\n",
    "\n",
    "# calling public method of the class\n",
    "emp.show()"
   ]
  },
  {
   "cell_type": "code",
   "execution_count": 38,
   "metadata": {},
   "outputs": [
    {
     "name": "stdout",
     "output_type": "stream",
     "text": [
      "Employee name : Jessa\n",
      "Working on project : NLP\n",
      "Project: NLP\n"
     ]
    }
   ],
   "source": [
    "# base class\n",
    "class Company:\n",
    "    def __init__(self):\n",
    "        # Protected member\n",
    "        self._project = \"NLP\"\n",
    "\n",
    "# child class\n",
    "class Employee(Company):\n",
    "    def __init__(self, name):\n",
    "        self.name = name\n",
    "        Company.__init__(self)\n",
    "\n",
    "    def show(self):\n",
    "        print(\"Employee name :\", self.name)\n",
    "        # Accessing protected member in child class\n",
    "        print(\"Working on project :\", self._project)\n",
    "\n",
    "c = Employee(\"Jessa\")\n",
    "c.show()\n",
    "\n",
    "# Direct access protected data member\n",
    "print('Project:', c._project)"
   ]
  },
  {
   "cell_type": "markdown",
   "metadata": {},
   "source": [
    "# Abstraction"
   ]
  },
  {
   "cell_type": "markdown",
   "metadata": {},
   "source": [
    "- By default, Python does not provide abstract classes. Python comes with a module which provides the base for defining Abstract Base classes(ABC) and that module name is ABC. ABC works by decorating methods of the base class as abstract and then registering concrete classes as implementations of the abstract base. A method becomes abstract when decorated with the keyword @abstractmethod."
   ]
  },
  {
   "cell_type": "code",
   "execution_count": 44,
   "metadata": {},
   "outputs": [],
   "source": [
    "class parent: \n",
    "    \n",
    "    def add(self):\n",
    "        pass\n",
    "\n",
    "    def sub(self):\n",
    "        pass\n",
    "\n",
    "class child(parent): \n",
    "    \n",
    "    def __init__(self, n):\n",
    "        self.num = n\n",
    "        \n",
    "\n",
    "p1 = parent()\n",
    "c1 = child(10)\n"
   ]
  },
  {
   "cell_type": "code",
   "execution_count": null,
   "metadata": {},
   "outputs": [],
   "source": [
    "# What if i don't want to allow any user to create a object of my parent class\n",
    "# Methods of parents class sholud be implemented in child class\n",
    "#The Abstract method is just providing a declaration. The child classes need to provide the definition. "
   ]
  },
  {
   "cell_type": "code",
   "execution_count": 47,
   "metadata": {},
   "outputs": [
    {
     "data": {
      "text/plain": [
       "10"
      ]
     },
     "execution_count": 47,
     "metadata": {},
     "output_type": "execute_result"
    }
   ],
   "source": [
    "#We use Abstraction for hiding the internal details or implementations of a function and showing its functionalities only.\n",
    "\"\"\"\n",
    "Any class with at least one abstract function is an abstract class. \n",
    "In order to create an abstraction class first, you need to import ABC class from abc module. \n",
    "This lets you create abstract methods inside it. ABC stands for Abstract Base Class.\n",
    "from abc import ABC, abstractmethod\n",
    "\"\"\"\n",
    "\n",
    "#parent is the abstract class that inherits from the ABC class from the abc module.\n",
    "\n",
    "from abc import ABC, abstractmethod\n",
    "\n",
    "class parent(ABC): \n",
    "    \n",
    "\n",
    "    def add(self): #concrete method\n",
    "        pass\n",
    "    \n",
    "    \n",
    "    @abstractmethod\n",
    "    def sub(self):  #abstract method\n",
    "        pass\n",
    "\n",
    "class child(parent): \n",
    "    \n",
    "    def __init__(self, n1, n2):\n",
    "        self.num1 = n1\n",
    "        self.num2 = n2\n",
    "        \n",
    "    def add(self):\n",
    "        return self.num1 + self.num2\n",
    "    \n",
    "    def sub(self):\n",
    "        return self.num1 - self.num2\n",
    "    \n",
    "c1 = child(6,4)\n",
    "c1.add()"
   ]
  },
  {
   "cell_type": "code",
   "execution_count": 48,
   "metadata": {},
   "outputs": [
    {
     "ename": "TypeError",
     "evalue": "Can't instantiate abstract class child with abstract methods sub",
     "output_type": "error",
     "traceback": [
      "\u001b[0;31m---------------------------------------------------------------------------\u001b[0m",
      "\u001b[0;31mTypeError\u001b[0m                                 Traceback (most recent call last)",
      "\u001b[0;32m<ipython-input-48-9ccdf217ac72>\u001b[0m in \u001b[0;36m<module>\u001b[0;34m\u001b[0m\n\u001b[1;32m     18\u001b[0m \u001b[0;34m\u001b[0m\u001b[0m\n\u001b[1;32m     19\u001b[0m \u001b[0;34m\u001b[0m\u001b[0m\n\u001b[0;32m---> 20\u001b[0;31m \u001b[0mc1\u001b[0m \u001b[0;34m=\u001b[0m \u001b[0mchild\u001b[0m\u001b[0;34m(\u001b[0m\u001b[0;36m5\u001b[0m\u001b[0;34m,\u001b[0m\u001b[0;36m6\u001b[0m\u001b[0;34m)\u001b[0m\u001b[0;34m\u001b[0m\u001b[0;34m\u001b[0m\u001b[0m\n\u001b[0m\u001b[1;32m     21\u001b[0m \u001b[0mc1\u001b[0m\u001b[0;34m.\u001b[0m\u001b[0madd\u001b[0m\u001b[0;34m(\u001b[0m\u001b[0;34m)\u001b[0m\u001b[0;34m\u001b[0m\u001b[0;34m\u001b[0m\u001b[0m\n",
      "\u001b[0;31mTypeError\u001b[0m: Can't instantiate abstract class child with abstract methods sub"
     ]
    }
   ],
   "source": [
    "\n",
    "class parent(ABC): \n",
    "    \n",
    "    @abstractmethod\n",
    "    def add(self):\n",
    "        pass\n",
    "    @abstractmethod\n",
    "    def sub(self):\n",
    "        pass\n",
    "\n",
    "class child(parent): \n",
    "    \n",
    "    def __init__(self, n1, n2):\n",
    "        self.num1 = n1\n",
    "        self.num2 = n2\n",
    "        \n",
    "    def add(self):\n",
    "        return self.num1 + self.num2\n",
    "        \n",
    "   \n",
    "c1 = child(5,6)\n",
    "c1.add()"
   ]
  },
  {
   "cell_type": "code",
   "execution_count": null,
   "metadata": {},
   "outputs": [],
   "source": []
  }
 ],
 "metadata": {
  "kernelspec": {
   "display_name": "Python 3 (ipykernel)",
   "language": "python",
   "name": "python3"
  },
  "language_info": {
   "codemirror_mode": {
    "name": "ipython",
    "version": 3
   },
   "file_extension": ".py",
   "mimetype": "text/x-python",
   "name": "python",
   "nbconvert_exporter": "python",
   "pygments_lexer": "ipython3",
   "version": "3.9.7"
  },
  "toc": {
   "base_numbering": 1,
   "nav_menu": {},
   "number_sections": true,
   "sideBar": true,
   "skip_h1_title": false,
   "title_cell": "Table of Contents",
   "title_sidebar": "Contents",
   "toc_cell": false,
   "toc_position": {
    "height": "calc(100% - 180px)",
    "left": "10px",
    "top": "150px",
    "width": "234.825px"
   },
   "toc_section_display": true,
   "toc_window_display": true
  }
 },
 "nbformat": 4,
 "nbformat_minor": 2
}
