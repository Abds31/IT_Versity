{
 "cells": [
  {
   "cell_type": "code",
   "execution_count": null,
   "metadata": {},
   "outputs": [],
   "source": [
    "height = float(input('Please enter your height input meters(decimals): '))\n",
    "weight = int(input('Please enter your weight input kg: '))\n",
    "bmi = weight/(height*height)\n",
    "\n",
    "if bmi <= 18.5:\n",
    "    print('Your BMI is', bmi,'which means you are underweight.')\n",
    "\n",
    "elif bmi > 18.5 and bmi < 25:\n",
    "    print('Your BMI is', bmi,'which means you are normal.')\n",
    "    \n",
    "elif bmi > 25 and bmi < 30:\n",
    "    print('Your BMI is', bmi,'which means you are overweight')\n",
    "\n",
    "elif bmi > 30:\n",
    "    print('Your BMI is', bmi,'which means you are obese.')\n",
    "\n",
    "else:\n",
    "    print('There is an error with your input')\n",
    "    print('Please check you have entered whole numbers\\n'\n",
    "              'and decimals were asked.')"
   ]
  },
  {
   "cell_type": "code",
   "execution_count": 11,
   "metadata": {},
   "outputs": [],
   "source": [
    "class person:\n",
    "    def __init__(self, weight, height):\n",
    "        self.weight=weight\n",
    "        self.height=height\n",
    "        \n",
    "    def calc_BMI(self):\n",
    "        \n",
    "        BMI= round(float((self.weight/(self.height*self.height)* 10000)))\n",
    "        print(f'BMI: {BMI}')\n",
    "   \n",
    "        if BMI<18.5:\n",
    "            print(f'Thin and Underweight')\n",
    "        elif BMI>18.5 and BMI<=25:\n",
    "            print(f'Healthy and Normal')\n",
    "        elif BMI>25 and BMI<=30:\n",
    "            print(f'Overweight')\n",
    "        elif BMI>30 and BMI<=40:\n",
    "            print(f'Obese')\n",
    "        else:\n",
    "            print(f'Extereme Obese')"
   ]
  },
  {
   "cell_type": "code",
   "execution_count": 12,
   "metadata": {},
   "outputs": [
    {
     "name": "stdout",
     "output_type": "stream",
     "text": [
      "Height in ms: 16.9\n",
      "Weight in kgs: 70\n",
      "BMI: 34\n",
      "Obese\n"
     ]
    }
   ],
   "source": [
    "h=float(input('Height in ms: '))\n",
    "\n",
    "w=float(input('Weight in kgs: '))\n",
    "\n",
    "b=person(h,w)\n",
    "b.calc_BMI()"
   ]
  },
  {
   "cell_type": "code",
   "execution_count": 54,
   "metadata": {},
   "outputs": [],
   "source": [
    "class ProfitCheck:\n",
    "    \n",
    "    def __init__(self,rev, cos):\n",
    "        self.rev=rev\n",
    "        self.cos=cos\n",
    "        \n",
    "    def check(self):\n",
    "        if self.rev> self.cos:\n",
    "            profit=((self.rev - self.cos))\n",
    "            return profit\n",
    "           \n",
    "        else:\n",
    "            print('loss')\n",
    "\n",
    "    def percentage(self):\n",
    "        value = (self.rev-self.cos)/self.rev\n",
    "        if (value >= 0):\n",
    "            return(f\"The Profit Precentage {value*100}\")\n",
    "        else:\n",
    "            return(f\"The Loss Percentage {value*100}\")\n",
    "        \n",
    "    def multi(self):\n",
    "        mul = self.rev*self.cos\n",
    "        return mul"
   ]
  },
  {
   "cell_type": "code",
   "execution_count": 55,
   "metadata": {},
   "outputs": [
    {
     "name": "stdout",
     "output_type": "stream",
     "text": [
      "Revenue: 100\n",
      "COGS: 20\n"
     ]
    }
   ],
   "source": [
    "r= int(input('Revenue: '))\n",
    "c=int(input('COGS: '))\n",
    "p=ProfitCheck(r,c)"
   ]
  },
  {
   "cell_type": "code",
   "execution_count": 52,
   "metadata": {},
   "outputs": [
    {
     "data": {
      "text/plain": [
       "80"
      ]
     },
     "execution_count": 52,
     "metadata": {},
     "output_type": "execute_result"
    }
   ],
   "source": [
    "p.check()"
   ]
  },
  {
   "cell_type": "code",
   "execution_count": 53,
   "metadata": {},
   "outputs": [
    {
     "data": {
      "text/plain": [
       "'The Profit Precentage 80.0'"
      ]
     },
     "execution_count": 53,
     "metadata": {},
     "output_type": "execute_result"
    }
   ],
   "source": [
    "p.percentage()"
   ]
  },
  {
   "cell_type": "code",
   "execution_count": 56,
   "metadata": {},
   "outputs": [
    {
     "data": {
      "text/plain": [
       "2000"
      ]
     },
     "execution_count": 56,
     "metadata": {},
     "output_type": "execute_result"
    }
   ],
   "source": [
    "p.multi()"
   ]
  },
  {
   "cell_type": "code",
   "execution_count": 57,
   "metadata": {},
   "outputs": [],
   "source": [
    "class addM:\n",
    "    \n",
    "    def __init__(self,marks1, marks2):\n",
    "        self.marks1 = marks1\n",
    "        self.marks2 = marks2\n",
    "    \n",
    "    def total(self):\n",
    "        sum = self.marks1 + self.marks2\n",
    "        mult = self.marks1 * self.marks2\n",
    "        return (sum, mult)\n",
    "    def perf(self):\n",
    "        if self.marks1 < self.marks2:\n",
    "            print(\"2 Mid Performance is Good\")\n",
    "        else:\n",
    "            print(\"1 Mid Performance is Good\")"
   ]
  },
  {
   "cell_type": "code",
   "execution_count": 29,
   "metadata": {},
   "outputs": [],
   "source": [
    "s = addM(30,40)"
   ]
  },
  {
   "cell_type": "code",
   "execution_count": 34,
   "metadata": {},
   "outputs": [
    {
     "data": {
      "text/plain": [
       "(70, 1200)"
      ]
     },
     "execution_count": 34,
     "metadata": {},
     "output_type": "execute_result"
    }
   ],
   "source": [
    "s.total()"
   ]
  },
  {
   "cell_type": "code",
   "execution_count": 35,
   "metadata": {},
   "outputs": [
    {
     "name": "stdout",
     "output_type": "stream",
     "text": [
      "2 Mid Performance is Good\n"
     ]
    }
   ],
   "source": [
    "s.perf()"
   ]
  },
  {
   "cell_type": "code",
   "execution_count": 31,
   "metadata": {},
   "outputs": [
    {
     "name": "stdout",
     "output_type": "stream",
     "text": [
      "2 Mid Performance is Good\n"
     ]
    }
   ],
   "source": [
    "s.perf()"
   ]
  },
  {
   "cell_type": "code",
   "execution_count": 36,
   "metadata": {},
   "outputs": [],
   "source": [
    "f = addM(80,100)"
   ]
  },
  {
   "cell_type": "code",
   "execution_count": 37,
   "metadata": {},
   "outputs": [
    {
     "data": {
      "text/plain": [
       "(180, 8000)"
      ]
     },
     "execution_count": 37,
     "metadata": {},
     "output_type": "execute_result"
    }
   ],
   "source": [
    "f.total()"
   ]
  },
  {
   "cell_type": "code",
   "execution_count": 38,
   "metadata": {},
   "outputs": [
    {
     "name": "stdout",
     "output_type": "stream",
     "text": [
      "2 Mid Performance is Good\n"
     ]
    }
   ],
   "source": [
    "f.perf()"
   ]
  },
  {
   "cell_type": "code",
   "execution_count": 65,
   "metadata": {},
   "outputs": [],
   "source": [
    "class Amount:\n",
    "    def __init__(self,price,quantity):\n",
    "        self.price=price\n",
    "        self.quantity=quantity\n",
    "    def calculate(self):\n",
    "        self.amount=self.price*self.quantity\n",
    "        if self.amount > 500:\n",
    "            print(\"Amount is greater than 500\")\n",
    "        else:\n",
    "            if self.amount < 500 and self.amount > 400:\n",
    "                print(\"Amount is between 400 and 500\")\n",
    "            elif self.amount < 500 and self.amount > 300:\n",
    "                print(\"Amount is between 300 and 500\")\n",
    "            else:\n",
    "                print(\"Amount is between 200 and 500\")\n",
    "                if self.amount == 100:\n",
    "                    print(\"Amount is 100\")\n",
    "                elif(self.amount<100):\n",
    "                    print(\"Amount is less than 100\")"
   ]
  },
  {
   "cell_type": "code",
   "execution_count": 66,
   "metadata": {},
   "outputs": [
    {
     "name": "stdout",
     "output_type": "stream",
     "text": [
      "enter price:100\n",
      "enter quantity:5\n"
     ]
    }
   ],
   "source": [
    "price=int(input('enter price:'))\n",
    "quantity=int(input('enter quantity:'))"
   ]
  },
  {
   "cell_type": "code",
   "execution_count": 67,
   "metadata": {},
   "outputs": [],
   "source": [
    "a=Amount(price,quantity)"
   ]
  },
  {
   "cell_type": "code",
   "execution_count": 68,
   "metadata": {},
   "outputs": [
    {
     "name": "stdout",
     "output_type": "stream",
     "text": [
      "Amount is between 200 and 500\n"
     ]
    }
   ],
   "source": [
    "a.calculate()"
   ]
  },
  {
   "cell_type": "code",
   "execution_count": null,
   "metadata": {},
   "outputs": [],
   "source": [
    "if b > a:\n",
    "    print(\"b is greater than a\")\n",
    "    print(b)"
   ]
  },
  {
   "cell_type": "code",
   "execution_count": null,
   "metadata": {},
   "outputs": [],
   "source": [
    "#Define Class - Done\n",
    "#Define Constructor - Done\n",
    "#Define Variable - Done\n",
    "#Define Method"
   ]
  },
  {
   "cell_type": "code",
   "execution_count": 78,
   "metadata": {},
   "outputs": [],
   "source": [
    "class great:\n",
    "    def __init__(self,a, b):\n",
    "        self.a = a\n",
    "        self.b = b\n",
    "    def cond(self):\n",
    "        if self.b > self.a:\n",
    "            print(\"b is greater than a\")\n",
    "    "
   ]
  },
  {
   "cell_type": "code",
   "execution_count": 81,
   "metadata": {},
   "outputs": [],
   "source": [
    "d = great(50,80)"
   ]
  },
  {
   "cell_type": "code",
   "execution_count": 82,
   "metadata": {},
   "outputs": [
    {
     "name": "stdout",
     "output_type": "stream",
     "text": [
      "b is greater than a\n"
     ]
    }
   ],
   "source": [
    "d.cond()"
   ]
  },
  {
   "cell_type": "code",
   "execution_count": null,
   "metadata": {},
   "outputs": [],
   "source": []
  }
 ],
 "metadata": {
  "kernelspec": {
   "display_name": "Python 3 (ipykernel)",
   "language": "python",
   "name": "python3"
  },
  "language_info": {
   "codemirror_mode": {
    "name": "ipython",
    "version": 3
   },
   "file_extension": ".py",
   "mimetype": "text/x-python",
   "name": "python",
   "nbconvert_exporter": "python",
   "pygments_lexer": "ipython3",
   "version": "3.9.7"
  }
 },
 "nbformat": 4,
 "nbformat_minor": 2
}
