{
 "cells": [
  {
   "cell_type": "code",
   "execution_count": 1,
   "id": "7f3e611b",
   "metadata": {},
   "outputs": [],
   "source": [
    "def add(a,b):\n",
    "    return a+b"
   ]
  },
  {
   "cell_type": "code",
   "execution_count": 2,
   "id": "85c0d6c7",
   "metadata": {},
   "outputs": [
    {
     "data": {
      "text/plain": [
       "8"
      ]
     },
     "execution_count": 2,
     "metadata": {},
     "output_type": "execute_result"
    }
   ],
   "source": [
    "add(3,5)"
   ]
  },
  {
   "cell_type": "code",
   "execution_count": 3,
   "id": "72dc80f8",
   "metadata": {},
   "outputs": [],
   "source": [
    "y=add(6,7)"
   ]
  },
  {
   "cell_type": "code",
   "execution_count": 4,
   "id": "1ddb7f04",
   "metadata": {},
   "outputs": [
    {
     "name": "stdout",
     "output_type": "stream",
     "text": [
      "13\n"
     ]
    }
   ],
   "source": [
    "print(y)"
   ]
  },
  {
   "cell_type": "code",
   "execution_count": 5,
   "id": "e284a3d5",
   "metadata": {},
   "outputs": [
    {
     "name": "stdout",
     "output_type": "stream",
     "text": [
      "Enter the two parameters to be of same type.\n"
     ]
    }
   ],
   "source": [
    "def add(a,b):\n",
    "    if type(a)==type(b):\n",
    "        return a+b\n",
    "    else:\n",
    "        print(\"Enter the two parameters to be of same type.\")\n",
    "x=add(1.5,3)"
   ]
  },
  {
   "cell_type": "code",
   "execution_count": 6,
   "id": "60cef146",
   "metadata": {},
   "outputs": [],
   "source": [
    "def oper(a,b):\n",
    "    sum=a+b\n",
    "    mul=a*b\n",
    "    return (sum,mul)"
   ]
  },
  {
   "cell_type": "code",
   "execution_count": 7,
   "id": "98a991d1",
   "metadata": {},
   "outputs": [
    {
     "data": {
      "text/plain": [
       "(19, 84)"
      ]
     },
     "execution_count": 7,
     "metadata": {},
     "output_type": "execute_result"
    }
   ],
   "source": [
    "oper(7,12)"
   ]
  },
  {
   "cell_type": "code",
   "execution_count": 8,
   "id": "8c790073",
   "metadata": {},
   "outputs": [
    {
     "name": "stdout",
     "output_type": "stream",
     "text": [
      "22\n",
      "112\n"
     ]
    }
   ],
   "source": [
    "sum,mul=oper(8,14)\n",
    "print(sum)\n",
    "print(mul)"
   ]
  },
  {
   "cell_type": "code",
   "execution_count": 34,
   "id": "d8f35773",
   "metadata": {},
   "outputs": [],
   "source": [
    "def hello():\n",
    "    '''\n",
    "    prints \"HelloWorld\"\n",
    "    returns None\n",
    "    '''\n",
    "    print(\"Hello World!\")"
   ]
  },
  {
   "cell_type": "code",
   "execution_count": 35,
   "id": "e5852b44",
   "metadata": {},
   "outputs": [
    {
     "name": "stdout",
     "output_type": "stream",
     "text": [
      "Hello World!\n"
     ]
    }
   ],
   "source": [
    "hello()"
   ]
  },
  {
   "cell_type": "code",
   "execution_count": 36,
   "id": "1b88ddf2",
   "metadata": {},
   "outputs": [
    {
     "name": "stdout",
     "output_type": "stream",
     "text": [
      "Help on function hello in module __main__:\n",
      "\n",
      "hello()\n",
      "    prints \"HelloWorld\"\n",
      "    returns None\n",
      "\n"
     ]
    }
   ],
   "source": [
    "help(hello)"
   ]
  },
  {
   "cell_type": "code",
   "execution_count": 37,
   "id": "cb53b495",
   "metadata": {},
   "outputs": [],
   "source": [
    "def multiply(**kwargs):\n",
    "    mul=1\n",
    "    for each in kwargs.values():\n",
    "        mul=mul*each\n",
    "    return mul"
   ]
  },
  {
   "cell_type": "code",
   "execution_count": 38,
   "id": "3675c9b3",
   "metadata": {},
   "outputs": [
    {
     "data": {
      "text/plain": [
       "42120"
      ]
     },
     "execution_count": 38,
     "metadata": {},
     "output_type": "execute_result"
    }
   ],
   "source": [
    "multiply(a=1,b=2,c=5,d=6,e=78,f=9)"
   ]
  },
  {
   "cell_type": "code",
   "execution_count": 39,
   "id": "e1e326a7",
   "metadata": {},
   "outputs": [
    {
     "name": "stdout",
     "output_type": "stream",
     "text": [
      "kargs1: vl\n",
      "kargs2: vseq2\n",
      "kargs3: vcbf\n"
     ]
    }
   ],
   "source": [
    "def some_args(args1,args2,args3):\n",
    "    print('kargs1:',args1)\n",
    "    print('kargs2:',args2)\n",
    "    print('kargs3:',args3)\n",
    "kw={'args1':'vl','args2':'vseq2','args3':'vcbf'}\n",
    "some_args(**kw)"
   ]
  },
  {
   "cell_type": "code",
   "execution_count": 40,
   "id": "6b014fa6",
   "metadata": {},
   "outputs": [
    {
     "name": "stdout",
     "output_type": "stream",
     "text": [
      "10\n",
      "20\n",
      "25\n",
      "10 20 25\n"
     ]
    }
   ],
   "source": [
    "x=10\n",
    "y=20\n",
    "def sum():\n",
    "    global z\n",
    "    z=25\n",
    "    print(x)\n",
    "    print(y)\n",
    "    print(z)\n",
    "sum()\n",
    "print(x,y,z)"
   ]
  },
  {
   "cell_type": "code",
   "execution_count": 41,
   "id": "753ba629",
   "metadata": {},
   "outputs": [],
   "source": [
    "sum=lambda x,y:x+y"
   ]
  },
  {
   "cell_type": "code",
   "execution_count": 42,
   "id": "bb43b59d",
   "metadata": {},
   "outputs": [
    {
     "data": {
      "text/plain": [
       "11"
      ]
     },
     "execution_count": 42,
     "metadata": {},
     "output_type": "execute_result"
    }
   ],
   "source": [
    "sum(5,6)"
   ]
  },
  {
   "cell_type": "code",
   "execution_count": 43,
   "id": "8b0802ab",
   "metadata": {},
   "outputs": [
    {
     "name": "stdout",
     "output_type": "stream",
     "text": [
      "[1, 2, 3, 4]\n"
     ]
    }
   ],
   "source": [
    "inputs=[1,2,3,4,5,6]\n",
    "output=list(filter(lambda x:x<=4,inputs))\n",
    "print(output)"
   ]
  },
  {
   "cell_type": "code",
   "execution_count": 44,
   "id": "d2ec80cf",
   "metadata": {},
   "outputs": [],
   "source": [
    "output=list(map(lambda x:x**2,inputs))"
   ]
  },
  {
   "cell_type": "code",
   "execution_count": 45,
   "id": "2486a938",
   "metadata": {},
   "outputs": [
    {
     "name": "stdout",
     "output_type": "stream",
     "text": [
      "[1, 4, 9, 16, 25, 36]\n"
     ]
    }
   ],
   "source": [
    "print(output)"
   ]
  },
  {
   "cell_type": "code",
   "execution_count": 46,
   "id": "2646f60b",
   "metadata": {},
   "outputs": [],
   "source": [
    "from functools import reduce\n",
    "output=reduce((lambda x,y:x*y),inputs)"
   ]
  },
  {
   "cell_type": "code",
   "execution_count": 47,
   "id": "e6bcef86",
   "metadata": {},
   "outputs": [
    {
     "name": "stdout",
     "output_type": "stream",
     "text": [
      "720\n"
     ]
    }
   ],
   "source": [
    "print(output)"
   ]
  },
  {
   "cell_type": "code",
   "execution_count": 48,
   "id": "9c8c4989",
   "metadata": {},
   "outputs": [],
   "source": [
    "sum=lambda x,y:x+y"
   ]
  },
  {
   "cell_type": "code",
   "execution_count": 49,
   "id": "321c3e5a",
   "metadata": {},
   "outputs": [
    {
     "data": {
      "text/plain": [
       "15"
      ]
     },
     "execution_count": 49,
     "metadata": {},
     "output_type": "execute_result"
    }
   ],
   "source": [
    "sum(7,8)"
   ]
  },
  {
   "cell_type": "code",
   "execution_count": 50,
   "id": "bc2eb7ab",
   "metadata": {},
   "outputs": [
    {
     "name": "stdout",
     "output_type": "stream",
     "text": [
      "[1, 4, 9, 16, 25]\n"
     ]
    }
   ],
   "source": [
    "items =[1,2,3,4,5]\n",
    "sup=[]\n",
    "for each in items:\n",
    "    sup.append(each**2)\n",
    "print(sup)"
   ]
  },
  {
   "cell_type": "code",
   "execution_count": 52,
   "id": "1d4b96fc",
   "metadata": {},
   "outputs": [
    {
     "name": "stdout",
     "output_type": "stream",
     "text": [
      "[1, 4, 9, 16, 25]\n"
     ]
    }
   ],
   "source": [
    "print(list(map(lambda x:x**2,items)))"
   ]
  },
  {
   "cell_type": "code",
   "execution_count": 53,
   "id": "ec223c47",
   "metadata": {},
   "outputs": [
    {
     "name": "stdout",
     "output_type": "stream",
     "text": [
      "range(-5, 5)\n"
     ]
    }
   ],
   "source": [
    "number_list=range(-5,5)\n",
    "print(number_list)"
   ]
  },
  {
   "cell_type": "code",
   "execution_count": 54,
   "id": "6e7cfe45",
   "metadata": {},
   "outputs": [
    {
     "data": {
      "text/plain": [
       "[True, True, True, True, True, False, False, False, False, False]"
      ]
     },
     "execution_count": 54,
     "metadata": {},
     "output_type": "execute_result"
    }
   ],
   "source": [
    "list(map(lambda x:x<0,number_list))"
   ]
  },
  {
   "cell_type": "code",
   "execution_count": 55,
   "id": "92d48117",
   "metadata": {},
   "outputs": [
    {
     "data": {
      "text/plain": [
       "[-5, -4, -3, -2, -1]"
      ]
     },
     "execution_count": 55,
     "metadata": {},
     "output_type": "execute_result"
    }
   ],
   "source": [
    "list(filter(lambda x:x<0,number_list))"
   ]
  },
  {
   "cell_type": "code",
   "execution_count": 56,
   "id": "73eee3d4",
   "metadata": {},
   "outputs": [],
   "source": [
    "from functools import reduce"
   ]
  },
  {
   "cell_type": "code",
   "execution_count": 57,
   "id": "6bc8bf75",
   "metadata": {},
   "outputs": [
    {
     "data": {
      "text/plain": [
       "55"
      ]
     },
     "execution_count": 57,
     "metadata": {},
     "output_type": "execute_result"
    }
   ],
   "source": [
    "reduce(lambda x,y:x+y,[1,2,3,4,5,6,7,8,9,10])"
   ]
  },
  {
   "cell_type": "code",
   "execution_count": 60,
   "id": "f50d3e6f",
   "metadata": {},
   "outputs": [],
   "source": [
    "def main():\n",
    "    print('Yehi hai Main function hamara trial2 jupyter notebook ka.')"
   ]
  },
  {
   "cell_type": "code",
   "execution_count": 61,
   "id": "3eef04ab",
   "metadata": {},
   "outputs": [
    {
     "name": "stdout",
     "output_type": "stream",
     "text": [
      "Yehi hai Main function hamara trial2 jupyter notebook ka.\n"
     ]
    }
   ],
   "source": [
    "main()"
   ]
  },
  {
   "cell_type": "code",
   "execution_count": 62,
   "id": "568bf565",
   "metadata": {},
   "outputs": [],
   "source": [
    "d={'Salary':[10,12,13,20,14],\n",
    "  'exp':[2,3,3,4,3.5],\n",
    "  \"Designation\":['DA',\"DS\",'DS','SDS','DS']}"
   ]
  },
  {
   "cell_type": "code",
   "execution_count": 63,
   "id": "1b81de4d",
   "metadata": {},
   "outputs": [
    {
     "data": {
      "text/plain": [
       "{'Salary': [10, 12, 13, 20, 14],\n",
       " 'exp': [2, 3, 3, 4, 3.5],\n",
       " 'Designation': ['DA', 'DS', 'DS', 'SDS', 'DS']}"
      ]
     },
     "execution_count": 63,
     "metadata": {},
     "output_type": "execute_result"
    }
   ],
   "source": [
    "d"
   ]
  },
  {
   "cell_type": "code",
   "execution_count": 64,
   "id": "b0c9e01e",
   "metadata": {},
   "outputs": [],
   "source": [
    "import pandas as pd"
   ]
  },
  {
   "cell_type": "code",
   "execution_count": 66,
   "id": "f1b64886",
   "metadata": {},
   "outputs": [],
   "source": [
    "data=pd.DataFrame(d)"
   ]
  },
  {
   "cell_type": "code",
   "execution_count": 67,
   "id": "0499bf8b",
   "metadata": {},
   "outputs": [
    {
     "data": {
      "text/html": [
       "<div>\n",
       "<style scoped>\n",
       "    .dataframe tbody tr th:only-of-type {\n",
       "        vertical-align: middle;\n",
       "    }\n",
       "\n",
       "    .dataframe tbody tr th {\n",
       "        vertical-align: top;\n",
       "    }\n",
       "\n",
       "    .dataframe thead th {\n",
       "        text-align: right;\n",
       "    }\n",
       "</style>\n",
       "<table border=\"1\" class=\"dataframe\">\n",
       "  <thead>\n",
       "    <tr style=\"text-align: right;\">\n",
       "      <th></th>\n",
       "      <th>Salary</th>\n",
       "      <th>exp</th>\n",
       "      <th>Designation</th>\n",
       "    </tr>\n",
       "  </thead>\n",
       "  <tbody>\n",
       "    <tr>\n",
       "      <th>0</th>\n",
       "      <td>10</td>\n",
       "      <td>2.0</td>\n",
       "      <td>DA</td>\n",
       "    </tr>\n",
       "    <tr>\n",
       "      <th>1</th>\n",
       "      <td>12</td>\n",
       "      <td>3.0</td>\n",
       "      <td>DS</td>\n",
       "    </tr>\n",
       "    <tr>\n",
       "      <th>2</th>\n",
       "      <td>13</td>\n",
       "      <td>3.0</td>\n",
       "      <td>DS</td>\n",
       "    </tr>\n",
       "    <tr>\n",
       "      <th>3</th>\n",
       "      <td>20</td>\n",
       "      <td>4.0</td>\n",
       "      <td>SDS</td>\n",
       "    </tr>\n",
       "    <tr>\n",
       "      <th>4</th>\n",
       "      <td>14</td>\n",
       "      <td>3.5</td>\n",
       "      <td>DS</td>\n",
       "    </tr>\n",
       "  </tbody>\n",
       "</table>\n",
       "</div>"
      ],
      "text/plain": [
       "   Salary  exp Designation\n",
       "0      10  2.0          DA\n",
       "1      12  3.0          DS\n",
       "2      13  3.0          DS\n",
       "3      20  4.0         SDS\n",
       "4      14  3.5          DS"
      ]
     },
     "execution_count": 67,
     "metadata": {},
     "output_type": "execute_result"
    }
   ],
   "source": [
    "data"
   ]
  },
  {
   "cell_type": "code",
   "execution_count": 68,
   "id": "d4f9428f",
   "metadata": {},
   "outputs": [
    {
     "data": {
      "text/plain": [
       "13.8"
      ]
     },
     "execution_count": 68,
     "metadata": {},
     "output_type": "execute_result"
    }
   ],
   "source": [
    "data['Salary'].mean()"
   ]
  },
  {
   "cell_type": "code",
   "execution_count": 69,
   "id": "c166604f",
   "metadata": {},
   "outputs": [
    {
     "data": {
      "text/plain": [
       "3.1"
      ]
     },
     "execution_count": 69,
     "metadata": {},
     "output_type": "execute_result"
    }
   ],
   "source": [
    "data['exp'].mean()"
   ]
  },
  {
   "cell_type": "code",
   "execution_count": 73,
   "id": "53f1476b",
   "metadata": {},
   "outputs": [
    {
     "data": {
      "text/plain": [
       "pandas.core.frame.DataFrame"
      ]
     },
     "execution_count": 73,
     "metadata": {},
     "output_type": "execute_result"
    }
   ],
   "source": [
    "type(data)"
   ]
  },
  {
   "cell_type": "code",
   "execution_count": 74,
   "id": "5e890137",
   "metadata": {},
   "outputs": [
    {
     "data": {
      "text/plain": [
       "pandas.core.series.Series"
      ]
     },
     "execution_count": 74,
     "metadata": {},
     "output_type": "execute_result"
    }
   ],
   "source": [
    "type(data['Salary'])"
   ]
  },
  {
   "cell_type": "code",
   "execution_count": 85,
   "id": "358097ca",
   "metadata": {},
   "outputs": [
    {
     "data": {
      "text/html": [
       "<div>\n",
       "<style scoped>\n",
       "    .dataframe tbody tr th:only-of-type {\n",
       "        vertical-align: middle;\n",
       "    }\n",
       "\n",
       "    .dataframe tbody tr th {\n",
       "        vertical-align: top;\n",
       "    }\n",
       "\n",
       "    .dataframe thead th {\n",
       "        text-align: right;\n",
       "    }\n",
       "</style>\n",
       "<table border=\"1\" class=\"dataframe\">\n",
       "  <thead>\n",
       "    <tr style=\"text-align: right;\">\n",
       "      <th></th>\n",
       "      <th>Salary</th>\n",
       "      <th>exp</th>\n",
       "    </tr>\n",
       "  </thead>\n",
       "  <tbody>\n",
       "    <tr>\n",
       "      <th>2</th>\n",
       "      <td>13</td>\n",
       "      <td>3.0</td>\n",
       "    </tr>\n",
       "    <tr>\n",
       "      <th>3</th>\n",
       "      <td>20</td>\n",
       "      <td>4.0</td>\n",
       "    </tr>\n",
       "    <tr>\n",
       "      <th>4</th>\n",
       "      <td>14</td>\n",
       "      <td>3.5</td>\n",
       "    </tr>\n",
       "  </tbody>\n",
       "</table>\n",
       "</div>"
      ],
      "text/plain": [
       "   Salary  exp\n",
       "2      13  3.0\n",
       "3      20  4.0\n",
       "4      14  3.5"
      ]
     },
     "execution_count": 85,
     "metadata": {},
     "output_type": "execute_result"
    }
   ],
   "source": [
    "data.iloc[2:,:2]"
   ]
  },
  {
   "cell_type": "code",
   "execution_count": null,
   "id": "adaf4450",
   "metadata": {},
   "outputs": [],
   "source": [
    "class ProfitChecker:\n",
    "    def __init__(self,rev,cos):\n",
    "        self.rev=rev\n",
    "        self.cos=cos\n",
    "    def check(self):\n",
    "        if self.rev>self.cos:\n",
    "            profit=self.rev-self.cos\n",
    "            return profit\n",
    "        else:\n",
    "            print('loss')"
   ]
  },
  {
   "cell_type": "code",
   "execution_count": null,
   "id": "7e2351df",
   "metadata": {},
   "outputs": [],
   "source": [
    "ProfitChecker(80,110)"
   ]
  },
  {
   "cell_type": "code",
   "execution_count": 12,
   "id": "3626a195",
   "metadata": {},
   "outputs": [],
   "source": [
    "class complete:\n",
    "    class1='yes'\n",
    "    def __init__(self,name,section):\n",
    "        self.name=name\n",
    "        self.section=section\n",
    "    @classmethod    \n",
    "    def class12(cls):\n",
    "        print(\"You know the syntax for class method.\")\n",
    "    @staticmethod\n",
    "    def static12(a,b):\n",
    "        print(\"static method product is:\",a*b)\n",
    "    def instance12(self):\n",
    "        print(f\"My name is {self.name} and I belong to {self.section}\")"
   ]
  },
  {
   "cell_type": "code",
   "execution_count": 13,
   "id": "509e5e6b",
   "metadata": {},
   "outputs": [
    {
     "name": "stdout",
     "output_type": "stream",
     "text": [
      "My name is Abhilaash and I belong to Co-IPL\n",
      "yes\n",
      "You know the syntax for class method.\n",
      "static method product is: 12\n"
     ]
    }
   ],
   "source": [
    "s1=complete('Abhilaash','Co-IPL')\n",
    "s1.instance12()\n",
    "print(s1.class1)\n",
    "s1.class12()\n",
    "s1.static12(3,4)"
   ]
  },
  {
   "cell_type": "code",
   "execution_count": null,
   "id": "aa721902",
   "metadata": {},
   "outputs": [],
   "source": []
  }
 ],
 "metadata": {
  "kernelspec": {
   "display_name": "Python 3 (ipykernel)",
   "language": "python",
   "name": "python3"
  },
  "language_info": {
   "codemirror_mode": {
    "name": "ipython",
    "version": 3
   },
   "file_extension": ".py",
   "mimetype": "text/x-python",
   "name": "python",
   "nbconvert_exporter": "python",
   "pygments_lexer": "ipython3",
   "version": "3.9.7"
  }
 },
 "nbformat": 4,
 "nbformat_minor": 5
}
