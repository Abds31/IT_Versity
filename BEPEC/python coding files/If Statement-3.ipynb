{
 "cells": [
  {
   "cell_type": "markdown",
   "metadata": {},
   "source": [
    "#Equals: a == b\n",
    "#Not Equals: a != b\n",
    "#Less than: a < b\n",
    "#Less than or equal to: a <= b\n",
    "#Greater than: a > b\n",
    "#Greater than or equal to: a >= b"
   ]
  },
  {
   "cell_type": "markdown",
   "metadata": {},
   "source": [
    "Any Boolean expression evaluating to True or False appears after the if keyword. Use the : symbol and press Enter after the expression to start a block with an increased indent."
   ]
  },
  {
   "cell_type": "markdown",
   "metadata": {},
   "source": [
    "The statements with the same indentation level as if condition will not consider in the if block. They will consider out of the if condition."
   ]
  },
  {
   "cell_type": "code",
   "execution_count": 1,
   "metadata": {
    "scrolled": true
   },
   "outputs": [
    {
     "name": "stdout",
     "output_type": "stream",
     "text": [
      "b is greater than a\n",
      "100\n"
     ]
    }
   ],
   "source": [
    "a = 55\n",
    "b = 100\n",
    "if b > a:\n",
    "    print(\"b is greater than a\")\n",
    "    print(b)\n"
   ]
  },
  {
   "cell_type": "markdown",
   "metadata": {},
   "source": [
    "# Python relies on indentation (whitespace at the beginning of a line) to define scope in the code"
   ]
  },
  {
   "cell_type": "code",
   "execution_count": 2,
   "metadata": {},
   "outputs": [
    {
     "name": "stdout",
     "output_type": "stream",
     "text": [
      "b is greater than a\n"
     ]
    }
   ],
   "source": [
    "\n",
    "a = 55\n",
    "b = 100\n",
    "if b > a:\n",
    "    print(\"b is greater than a\")"
   ]
  },
  {
   "cell_type": "markdown",
   "metadata": {},
   "source": [
    "The elif block is executed if the specified condition evaluates to True."
   ]
  },
  {
   "cell_type": "code",
   "execution_count": 3,
   "metadata": {},
   "outputs": [
    {
     "name": "stdout",
     "output_type": "stream",
     "text": [
      "a and b are equal\n"
     ]
    }
   ],
   "source": [
    "#Improvise the code, to print the condition when a is greater than b\n",
    "a = 33\n",
    "b = 33\n",
    "if b > a:\n",
    "  print(\"b is greater than a\")\n",
    "elif a == b:\n",
    "  print(\"a and b are equal\")"
   ]
  },
  {
   "cell_type": "code",
   "execution_count": 4,
   "metadata": {},
   "outputs": [
    {
     "name": "stdout",
     "output_type": "stream",
     "text": [
      "price is greater than 100\n"
     ]
    }
   ],
   "source": [
    "#Improvise the code\n",
    "price = 200\n",
    "\n",
    "if price > 100:\n",
    " print(\"price is greater than 100\")\n",
    "\n",
    "if price == 100:\n",
    "  print(\"price is 100\")\n",
    "\n",
    "if price < 100:\n",
    "    print(\"price is less than 100\")"
   ]
  },
  {
   "cell_type": "code",
   "execution_count": 5,
   "metadata": {},
   "outputs": [
    {
     "name": "stdout",
     "output_type": "stream",
     "text": [
      "Salary is less than 10\n"
     ]
    }
   ],
   "source": [
    "salary = 6\n",
    "\n",
    "if salary >= 10:\n",
    "    print(\"Salary is greater than 10\")\n",
    "else:\n",
    "    print(\"Salary is less than 10\")"
   ]
  },
  {
   "cell_type": "code",
   "execution_count": 6,
   "metadata": {},
   "outputs": [
    {
     "name": "stdout",
     "output_type": "stream",
     "text": [
      "a is greater than b\n"
     ]
    }
   ],
   "source": [
    "a=50\n",
    "b=34\n",
    "if a > b: print(\"a is greater than b\")"
   ]
  },
  {
   "cell_type": "code",
   "execution_count": 1,
   "metadata": {},
   "outputs": [
    {
     "name": "stdout",
     "output_type": "stream",
     "text": [
      "B\n",
      "B\n"
     ]
    }
   ],
   "source": [
    "#What to do, to print value of 'a' or value of 'b'\n",
    "a = 350\n",
    "b = 380\n",
    "print(\"A\") if a > b else print(\"=\") if a == b else print(\"B\")\n",
    "\n",
    "if a>b:\n",
    "    print('A')\n",
    "elif a<b:\n",
    "    print(\"B\")\n",
    "elif a==b:\n",
    "    print(\"=\")\n",
    "else:\n",
    "    print('Sorry! the numbers format has to be adjusted.')"
   ]
  },
  {
   "cell_type": "code",
   "execution_count": 48,
   "metadata": {},
   "outputs": [
    {
     "name": "stdout",
     "output_type": "stream",
     "text": [
      "Both conditions are True\n"
     ]
    }
   ],
   "source": [
    "a = 800\n",
    "b = 45\n",
    "c = 700\n",
    "if a > b and c < a:\n",
    "  print(\"Both conditions are True\")"
   ]
  },
  {
   "cell_type": "code",
   "execution_count": 23,
   "metadata": {},
   "outputs": [
    {
     "name": "stdout",
     "output_type": "stream",
     "text": [
      "At least one of the conditions is True\n"
     ]
    }
   ],
   "source": [
    "a = 100\n",
    "b = 45\n",
    "c = 700\n",
    "if a > b or a > c:\n",
    "  print(\"At least one of the conditions is True\")"
   ]
  },
  {
   "cell_type": "code",
   "execution_count": 55,
   "metadata": {},
   "outputs": [
    {
     "name": "stdout",
     "output_type": "stream",
     "text": [
      "Above ten,\n",
      "and also above 20!\n"
     ]
    }
   ],
   "source": [
    "x = 45\n",
    "\n",
    "if x >= 10:\n",
    "  print(\"Above ten,\")\n",
    "  if x > 20:\n",
    "    print(\"and also above 20!\")\n",
    "  else:\n",
    "    print(\"but not above 20.\")"
   ]
  },
  {
   "cell_type": "code",
   "execution_count": 7,
   "metadata": {},
   "outputs": [
    {
     "name": "stdout",
     "output_type": "stream",
     "text": [
      "Amount is greater than 500.\n"
     ]
    }
   ],
   "source": [
    "#Explore this piece of code & Find ways to make it more simple\n",
    "price = 100\n",
    "quantity = 6\n",
    "amount = price*quantity\n",
    "\n",
    "if amount>500:\n",
    "    print(\"Amount is greater than 500.\")\n",
    "else:\n",
    "    if amount>400:\n",
    "        print(\"Amount is greater than 400 but less than 500.\")\n",
    "    elif amount>300:\n",
    "        print('Amount is greater than 300 but less than 500.')\n",
    "    elif amount>200:\n",
    "        print('Amount is between 200 and 500.')\n",
    "    elif amount==100:\n",
    "        print(\"Amount is 100.\")\n",
    "    else:\n",
    "        print('Amount is less than 100.')\n"
   ]
  },
  {
   "cell_type": "code",
   "execution_count": 11,
   "metadata": {},
   "outputs": [
    {
     "name": "stdout",
     "output_type": "stream",
     "text": [
      "Enter username:Gayathri\n",
      "BEPEC CT May Participant name is: Gayathri\n"
     ]
    }
   ],
   "source": [
    "username = input(\"Enter username:\")\n",
    "print(\"BEPEC CT May Participant name is: \" + username)"
   ]
  },
  {
   "cell_type": "code",
   "execution_count": 14,
   "metadata": {},
   "outputs": [
    {
     "name": "stdout",
     "output_type": "stream",
     "text": [
      "Enter a value for p: 10\n",
      "Enter a value for q: 5\n",
      "p/q = 2.0\n"
     ]
    }
   ],
   "source": [
    "#Improve the code to nested if statement\n",
    "#User Input\n",
    "p = float(input('Enter a value for p: '))\n",
    "q = float(input('Enter a value for q: '))\n",
    "\n",
    "if q == 0.0:\n",
    "  print('Error: division by 0.')\n",
    "else:\n",
    "  print('p/q = ' + str(p/q))"
   ]
  },
  {
   "cell_type": "code",
   "execution_count": 15,
   "metadata": {},
   "outputs": [
    {
     "name": "stdout",
     "output_type": "stream",
     "text": [
      "Please enter your height input meters(decimals): 16.9\n",
      "Please enter your weight input kg: 69\n",
      "Your BMI is 0.24158817968558527 which means you are underweight.\n"
     ]
    }
   ],
   "source": [
    "height = float(input('Please enter your height input meters(decimals): '))\n",
    "weight = int(input('Please enter your weight input kg: '))\n",
    "bmi = weight/(height*height)\n",
    "\n",
    "if bmi <= 18.5:\n",
    "    print('Your BMI is', bmi,'which means you are underweight.')\n",
    "\n",
    "elif bmi > 18.5 and bmi < 25:\n",
    "    print('Your BMI is', bmi,'which means you are normal.')\n",
    "    \n",
    "elif bmi > 25 and bmi < 30:\n",
    "    print('Your BMI is', bmi,'which means you are overweight')\n",
    "\n",
    "elif bmi > 30:\n",
    "    print('Your BMI is', bmi,'which means you are obese.')\n",
    "\n",
    "else:\n",
    "    print('There is an error with your input')\n",
    "    print('Please check you have entered whole numbers\\n'\n",
    "              'and decimals were asked.')"
   ]
  },
  {
   "cell_type": "code",
   "execution_count": null,
   "metadata": {},
   "outputs": [],
   "source": []
  }
 ],
 "metadata": {
  "kernelspec": {
   "display_name": "Python 3 (ipykernel)",
   "language": "python",
   "name": "python3"
  },
  "language_info": {
   "codemirror_mode": {
    "name": "ipython",
    "version": 3
   },
   "file_extension": ".py",
   "mimetype": "text/x-python",
   "name": "python",
   "nbconvert_exporter": "python",
   "pygments_lexer": "ipython3",
   "version": "3.9.7"
  }
 },
 "nbformat": 4,
 "nbformat_minor": 2
}
