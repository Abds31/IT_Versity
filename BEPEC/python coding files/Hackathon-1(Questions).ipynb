{
 "cells": [
  {
   "cell_type": "markdown",
   "metadata": {},
   "source": [
    "# if Statements"
   ]
  },
  {
   "cell_type": "code",
   "execution_count": 3,
   "metadata": {},
   "outputs": [
    {
     "name": "stdout",
     "output_type": "stream",
     "text": [
      "Enter a number34\n",
      "35\n"
     ]
    }
   ],
   "source": [
    "#increment the value by 1\n",
    "a=int(input(\"Enter a number\"))\n",
    "if type(a)==int:\n",
    "    print(a+1)\n",
    "else:\n",
    "    print(\"Correct the input and try again.\")"
   ]
  },
  {
   "cell_type": "code",
   "execution_count": 6,
   "metadata": {},
   "outputs": [
    {
     "name": "stdout",
     "output_type": "stream",
     "text": [
      "enter your age:18\n",
      "You are elegible to vote.\n"
     ]
    }
   ],
   "source": [
    "#Determine weather a person is eligible to vote by using  input \n",
    "age=int(input(\"enter your age:\"))\n",
    "if age>=18:\n",
    "    print(\"You are elegible to vote.\")\n",
    "else:\n",
    "    print(\"Sorry! You have to wait a little more.\")"
   ]
  },
  {
   "cell_type": "markdown",
   "metadata": {},
   "source": [
    "# if - else Statements"
   ]
  },
  {
   "cell_type": "code",
   "execution_count": 7,
   "metadata": {},
   "outputs": [
    {
     "name": "stdout",
     "output_type": "stream",
     "text": [
      "enter your age:3\n",
      "Sorry! You have to wait a little more.\n"
     ]
    }
   ],
   "source": [
    "#Determine weather a person is eligible to vote by using input \n",
    "age=int(input(\"enter your age:\"))\n",
    "if age>=18:\n",
    "    print(\"You are elegible to vote.\")\n",
    "else:\n",
    "    print(\"Sorry! You have to wait a little more.\")"
   ]
  },
  {
   "cell_type": "code",
   "execution_count": 13,
   "metadata": {},
   "outputs": [],
   "source": [
    "#find the number is even or odd by using input \n",
    "value=int(input(\"Enter the number:\"))\n",
    "if value%2==0:\n",
    "    print(\"The entered value is an even number.\")\n",
    "else:\n",
    "    print(\"It is an odd number.\")"
   ]
  },
  {
   "cell_type": "code",
   "execution_count": 11,
   "metadata": {},
   "outputs": [
    {
     "name": "stdout",
     "output_type": "stream",
     "text": [
      "enter your current salary:25000\n",
      "Enter your gender M or F:M\n",
      "Your new salary is 27500.00\n"
     ]
    }
   ],
   "source": [
    "# A company decides to give bonus to all its employees on New year. A 10% bonus on salary for all the male workers and\n",
    "# 25% to females. build a programme to enter Salary and Gender(m or F) of employee. \n",
    "salary=float(input('enter your current salary:'))\n",
    "gender=input(\"Enter your gender M or F:\")\n",
    "\n",
    "if gender=='M':\n",
    "    salary=salary*1.1\n",
    "    print(\"Your new salary is %7.2f\" %(salary))\n",
    "elif  gender=='F':\n",
    "    salary=salary*1.25\n",
    "    print(\"Your new salary is %7.2f\" %(salary))\n"
   ]
  },
  {
   "cell_type": "markdown",
   "metadata": {},
   "source": [
    "# if -elif- else Statement"
   ]
  },
  {
   "cell_type": "code",
   "execution_count": 12,
   "metadata": {
    "scrolled": true
   },
   "outputs": [
    {
     "name": "stdout",
     "output_type": "stream",
     "text": [
      "Enter a number:-7\n",
      "Number is less than 0.\n"
     ]
    }
   ],
   "source": [
    "# check weather the number is positive or negitive or equal to zero using input\n",
    "number=int(input(\"Enter a number:\"))\n",
    "if number>0:\n",
    "    print(\"Positive.\")\n",
    "elif number==0:\n",
    "    print(\"Equals to 0.\")\n",
    "else:\n",
    "    print(\"Number is less than 0.\")"
   ]
  },
  {
   "cell_type": "code",
   "execution_count": 14,
   "metadata": {},
   "outputs": [
    {
     "name": "stdout",
     "output_type": "stream",
     "text": [
      "enter a character:E\n",
      "is Vowel.\n"
     ]
    }
   ],
   "source": [
    "# Test Weather the charcter is vowel or not vowel using input\n",
    "test_vowel=input(\"enter a character:\")\n",
    "if test_vowel in 'aeiouAEIOU':\n",
    "    print(\"is Vowel.\")\n",
    "else:\n",
    "    print(\"is not a Vowel.\")"
   ]
  },
  {
   "cell_type": "code",
   "execution_count": 22,
   "metadata": {},
   "outputs": [
    {
     "name": "stdout",
     "output_type": "stream",
     "text": [
      "enter a number greater than 0:46\n",
      "big.\n"
     ]
    }
   ],
   "source": [
    "#Given an integer input perform the following conditional actions:\n",
    "number=int(input(\"enter a number greater than 0:\"))\n",
    "if number%2==0:\n",
    "    if number>=2 and number <=5:\n",
    "        print(\"small.\")\n",
    "    elif number>=6 and number<=20:\n",
    "        print('medium.')\n",
    "    else:\n",
    "        print('big.')\n",
    "else:\n",
    "    print('odd.')\n",
    "#If n is odd, print odd\n",
    "#If n is even and in the inclusive range of 2 to 5, print small\n",
    "#If n is even and in the inclusive range of 6 to 20, print medium\n",
    "#If n is even and greater than 20, print big\n",
    "\n"
   ]
  },
  {
   "cell_type": "markdown",
   "metadata": {},
   "source": [
    "# while loop "
   ]
  },
  {
   "cell_type": "code",
   "execution_count": 23,
   "metadata": {},
   "outputs": [
    {
     "name": "stdout",
     "output_type": "stream",
     "text": [
      "0\n",
      "1\n",
      "2\n",
      "3\n",
      "4\n",
      "5\n",
      "6\n",
      "7\n",
      "8\n",
      "9\n",
      "10\n"
     ]
    }
   ],
   "source": [
    "# print first 10 numbers \n",
    "i=0\n",
    "while i<=10:\n",
    "    print(i)\n",
    "    i+=1"
   ]
  },
  {
   "cell_type": "code",
   "execution_count": 32,
   "metadata": {},
   "outputs": [
    {
     "name": "stdout",
     "output_type": "stream",
     "text": [
      "Total sum is: 55\n",
      "Average is 5\n"
     ]
    }
   ],
   "source": [
    "# find average and sum for first 10 numbers \n",
    "i=0\n",
    "count=0\n",
    "tsum=0\n",
    "while i<=10:\n",
    "    count=count+1\n",
    "    tsum=tsum+i\n",
    "    i=i+1\n",
    "print(\"Total sum is:\",tsum)\n",
    "print(\"Average is %1d\" %(tsum/count))"
   ]
  },
  {
   "cell_type": "code",
   "execution_count": 30,
   "metadata": {},
   "outputs": [
    {
     "name": "stdout",
     "output_type": "stream",
     "text": [
      "___________"
     ]
    }
   ],
   "source": [
    "#Draw a line using while loop \n",
    "i=0\n",
    "while i<=10:\n",
    "    print('',end='_')\n",
    "    i+=1"
   ]
  },
  {
   "cell_type": "code",
   "execution_count": 31,
   "metadata": {},
   "outputs": [
    {
     "name": "stdout",
     "output_type": "stream",
     "text": [
      "Enter the first number.34\n",
      "Enter the second number.45\n",
      "Sum of all numbers from m to n inclusive is: 474\n"
     ]
    }
   ],
   "source": [
    "#calculate the sum of m to n  numbers using input\n",
    "first_number=int(input(\"Enter the first number.\"))\n",
    "second_number=int(input(\"Enter the second number.\"))\n",
    "total=0\n",
    "while first_number<=second_number:\n",
    "    total=total+first_number\n",
    "    first_number+=1\n",
    "print(\"Sum of all numbers from m to n inclusive is:\",total)"
   ]
  },
  {
   "cell_type": "code",
   "execution_count": 36,
   "metadata": {},
   "outputs": [
    {
     "name": "stdout",
     "output_type": "stream",
     "text": [
      "10\n",
      "9\n",
      "8\n",
      "7\n",
      "6\n",
      "5\n",
      "4\n",
      "3\n",
      "2\n",
      "1\n",
      "0\n"
     ]
    }
   ],
   "source": [
    "# countdown 10 to 0 using input\n",
    "i=10\n",
    "while i>=0:\n",
    "    print(i)\n",
    "    i-=1"
   ]
  },
  {
   "cell_type": "markdown",
   "metadata": {},
   "source": [
    "# for loop "
   ]
  },
  {
   "cell_type": "code",
   "execution_count": 39,
   "metadata": {},
   "outputs": [
    {
     "name": "stdout",
     "output_type": "stream",
     "text": [
      "enter a number greater than 0:11\n",
      "The multiplication of 11 * 1 is 11\n",
      "The multiplication of 11 * 2 is 22\n",
      "The multiplication of 11 * 3 is 33\n",
      "The multiplication of 11 * 4 is 44\n",
      "The multiplication of 11 * 5 is 55\n",
      "The multiplication of 11 * 6 is 66\n",
      "The multiplication of 11 * 7 is 77\n",
      "The multiplication of 11 * 8 is 88\n",
      "The multiplication of 11 * 9 is 99\n",
      "The multiplication of 11 * 10 is 110\n"
     ]
    }
   ],
   "source": [
    "#Multiplication table using input\n",
    "number=int(input(\"enter a number greater than 0:\"))\n",
    "for i in range(1,11):\n",
    "    print(\"The multiplication of {0} * {1} is {2}\".format(number,i,number*i))"
   ]
  },
  {
   "cell_type": "code",
   "execution_count": 40,
   "metadata": {},
   "outputs": [
    {
     "name": "stdout",
     "output_type": "stream",
     "text": [
      "even.\n",
      "odd.\n",
      "even.\n",
      "odd.\n",
      "even.\n",
      "odd.\n",
      "even.\n",
      "odd.\n",
      "even.\n",
      "odd.\n",
      "even.\n",
      "odd.\n",
      "even.\n",
      "odd.\n",
      "even.\n",
      "odd.\n",
      "even.\n",
      "odd.\n",
      "even.\n",
      "odd.\n",
      "even.\n",
      "odd.\n"
     ]
    }
   ],
   "source": [
    "#print even and odd for range of number\n",
    "for i in range(20,42):\n",
    "    if i%2==0:\n",
    "        print(\"even.\")\n",
    "    else:\n",
    "        print(\"odd.\")"
   ]
  },
  {
   "cell_type": "code",
   "execution_count": 41,
   "metadata": {},
   "outputs": [
    {
     "name": "stdout",
     "output_type": "stream",
     "text": [
      "0\n",
      "1\n",
      "2\n",
      "3\n",
      "4\n",
      "5\n"
     ]
    }
   ],
   "source": [
    "# break statement\n",
    "for i in range(1,10):\n",
    "    if i==6:\n",
    "        break\n",
    "    print(i)"
   ]
  },
  {
   "cell_type": "code",
   "execution_count": 44,
   "metadata": {},
   "outputs": [
    {
     "name": "stdout",
     "output_type": "stream",
     "text": [
      "1\n",
      "2\n",
      "3\n",
      "this number is missing.\n",
      "5\n",
      "6\n",
      "7\n",
      "8\n",
      "9\n",
      "10\n",
      "11\n"
     ]
    }
   ],
   "source": [
    "#countinue statement \n",
    "for i in range(1,12):\n",
    "    if i==4:\n",
    "        print(\"this number is missing.\")\n",
    "        continue\n",
    "    print(i)\n"
   ]
  },
  {
   "cell_type": "code",
   "execution_count": 57,
   "metadata": {},
   "outputs": [
    {
     "name": "stdout",
     "output_type": "stream",
     "text": [
      "1804 is a leap year.\n",
      "1808 is a leap year.\n",
      "1812 is a leap year.\n",
      "1816 is a leap year.\n",
      "1820 is a leap year.\n",
      "1824 is a leap year.\n",
      "1828 is a leap year.\n",
      "1832 is a leap year.\n",
      "1836 is a leap year.\n",
      "1840 is a leap year.\n",
      "1844 is a leap year.\n",
      "1848 is a leap year.\n",
      "1852 is a leap year.\n",
      "1856 is a leap year.\n",
      "1860 is a leap year.\n",
      "1864 is a leap year.\n",
      "1868 is a leap year.\n",
      "1872 is a leap year.\n",
      "1876 is a leap year.\n",
      "1880 is a leap year.\n",
      "1884 is a leap year.\n",
      "1888 is a leap year.\n",
      "1892 is a leap year.\n",
      "1896 is a leap year.\n",
      "1904 is a leap year.\n",
      "1908 is a leap year.\n",
      "1912 is a leap year.\n",
      "1916 is a leap year.\n",
      "1920 is a leap year.\n",
      "1924 is a leap year.\n",
      "1928 is a leap year.\n",
      "1932 is a leap year.\n",
      "1936 is a leap year.\n",
      "1940 is a leap year.\n",
      "1944 is a leap year.\n",
      "1948 is a leap year.\n",
      "1952 is a leap year.\n",
      "1956 is a leap year.\n",
      "1960 is a leap year.\n",
      "1964 is a leap year.\n",
      "1968 is a leap year.\n",
      "1972 is a leap year.\n",
      "1976 is a leap year.\n",
      "1980 is a leap year.\n",
      "1984 is a leap year.\n",
      "1988 is a leap year.\n",
      "1992 is a leap year.\n",
      "1996 is a leap year.\n",
      "2000 is a leap year.\n",
      "2004 is a leap year.\n",
      "2008 is a leap year.\n",
      "2012 is a leap year.\n",
      "2016 is a leap year.\n",
      "2020 is a leap year.\n",
      "Total number of leap years:54\n"
     ]
    }
   ],
   "source": [
    "# all leap years from 1800 - 2021\n",
    "count=0\n",
    "for i in range(1800,2021):\n",
    "    if i%4==0:\n",
    "        if i%100!=0:\n",
    "            print(\"{} is a leap year.\".format(i))\n",
    "            count+=1\n",
    "        elif i%400==0:\n",
    "            print(\"{} is a leap year.\".format(i))\n",
    "            count+=1\n",
    "        else:\n",
    "            pass\n",
    "    else:\n",
    "        pass\n",
    "print(f\"Total number of leap years:{count}\")"
   ]
  },
  {
   "cell_type": "markdown",
   "metadata": {},
   "source": [
    "# User defined function "
   ]
  },
  {
   "cell_type": "code",
   "execution_count": 5,
   "metadata": {},
   "outputs": [
    {
     "data": {
      "text/plain": [
       "90720"
      ]
     },
     "execution_count": 5,
     "metadata": {},
     "output_type": "execute_result"
    }
   ],
   "source": [
    "#creating arethematic operators using user defined functions\n",
    "from functools import reduce\n",
    "def arithmetic(*args,operator='+'):\n",
    "    if operator=='+':\n",
    "        return sum(args)\n",
    "    if operator=='-':\n",
    "        return reduce(lambda x,y:x-y,args)\n",
    "    if operator=='*':\n",
    "        return reduce(lambda x,y:x*y,args)\n",
    "    else:\n",
    "        print(\"these opeartors are of out of bound.\")\n",
    "arithmetic(1,2,3,4,6,7,9,10,operator='*')"
   ]
  },
  {
   "cell_type": "code",
   "execution_count": 6,
   "metadata": {},
   "outputs": [
    {
     "name": "stdout",
     "output_type": "stream",
     "text": [
      "Enter a String:Welcome to python lets get deep into it.\n"
     ]
    },
    {
     "data": {
      "text/plain": [
       "'Welcome to python lets get deep into it.'"
      ]
     },
     "execution_count": 6,
     "metadata": {},
     "output_type": "execute_result"
    }
   ],
   "source": [
    "#Welcome With input \n",
    "def hello():\n",
    "    a=input(\"Enter a String:\")\n",
    "    return(a)\n",
    "hello()"
   ]
  },
  {
   "cell_type": "markdown",
   "metadata": {},
   "source": [
    "# Lambda function "
   ]
  },
  {
   "cell_type": "code",
   "execution_count": 8,
   "metadata": {},
   "outputs": [
    {
     "data": {
      "text/plain": [
       "1"
      ]
     },
     "execution_count": 8,
     "metadata": {},
     "output_type": "execute_result"
    }
   ],
   "source": [
    "# sum using lambda function \n",
    "sub=lambda x,y:x-y\n",
    "sub(9,8)"
   ]
  },
  {
   "cell_type": "code",
   "execution_count": 12,
   "metadata": {},
   "outputs": [
    {
     "name": "stdout",
     "output_type": "stream",
     "text": [
      "[1, 2, 3, 4, 5, 6, 7, 8, 9, 10]\n"
     ]
    }
   ],
   "source": [
    "# create a list using loop\n",
    "# Create a list of first 10 number using list comprehension\n",
    "list10=[i for i in range(1,11)]\n",
    "print(list10)"
   ]
  },
  {
   "cell_type": "code",
   "execution_count": 13,
   "metadata": {},
   "outputs": [
    {
     "name": "stdout",
     "output_type": "stream",
     "text": [
      "[2, 4, 6, 8, 10]\n"
     ]
    }
   ],
   "source": [
    "# select all the even number form the list with filter()\n",
    "print(list(filter(lambda x:x%2==0,list10)))"
   ]
  },
  {
   "cell_type": "code",
   "execution_count": 15,
   "metadata": {},
   "outputs": [
    {
     "name": "stdout",
     "output_type": "stream",
     "text": [
      "[1, 4, 9, 16, 25, 36, 49, 64, 81, 100]\n"
     ]
    }
   ],
   "source": [
    "# get  the squiares of numbers form the list with map()\n",
    "print(list(map(lambda x:x**2,list10)))"
   ]
  },
  {
   "cell_type": "code",
   "execution_count": 24,
   "metadata": {},
   "outputs": [],
   "source": [
    "#get the sum of numbers of the list using reduce()\n",
    "reduce(lambda x,y:x)"
   ]
  },
  {
   "cell_type": "code",
   "execution_count": null,
   "metadata": {},
   "outputs": [],
   "source": [
    "a=1\n",
    "type()"
   ]
  }
 ],
 "metadata": {
  "kernelspec": {
   "display_name": "Python 3 (ipykernel)",
   "language": "python",
   "name": "python3"
  },
  "language_info": {
   "codemirror_mode": {
    "name": "ipython",
    "version": 3
   },
   "file_extension": ".py",
   "mimetype": "text/x-python",
   "name": "python",
   "nbconvert_exporter": "python",
   "pygments_lexer": "ipython3",
   "version": "3.9.7"
  },
  "toc": {
   "base_numbering": 1,
   "nav_menu": {},
   "number_sections": true,
   "sideBar": true,
   "skip_h1_title": false,
   "title_cell": "Table of Contents",
   "title_sidebar": "Contents",
   "toc_cell": false,
   "toc_position": {},
   "toc_section_display": true,
   "toc_window_display": true
  }
 },
 "nbformat": 4,
 "nbformat_minor": 2
}
